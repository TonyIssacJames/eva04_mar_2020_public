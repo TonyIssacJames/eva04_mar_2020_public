{
  "nbformat": 4,
  "nbformat_minor": 0,
  "metadata": {
    "colab": {
      "name": "EVA4_B2_Session_06.ipynb",
      "provenance": [],
      "collapsed_sections": []
    },
    "kernelspec": {
      "name": "python3",
      "display_name": "Python 3"
    },
    "accelerator": "GPU"
  },
  "cells": [
    {
      "cell_type": "code",
      "metadata": {
        "id": "9d9MzFXdfZTe",
        "colab_type": "code",
        "colab": {}
      },
      "source": [
        "from __future__ import print_function\n",
        "import torch\n",
        "import torch.nn as nn\n",
        "import torch.nn.functional as F\n",
        "import torch.optim as optim\n",
        "from torchvision import datasets, transforms\n",
        "from torch.utils.data import Dataset, DataLoader\n",
        "import torchsummary\n",
        "from torchsummary import summary\n",
        "from tqdm import tqdm"
      ],
      "execution_count": 0,
      "outputs": []
    },
    {
      "cell_type": "markdown",
      "metadata": {
        "id": "kW8xXQHPjLGE",
        "colab_type": "text"
      },
      "source": [
        "### For Reproducablity"
      ]
    },
    {
      "cell_type": "code",
      "metadata": {
        "id": "bNT9pEOZjJr8",
        "colab_type": "code",
        "colab": {}
      },
      "source": [
        "SEED = 1\n",
        "\n",
        "#If cuda is available\n",
        "\n",
        "use_cuda = torch.cuda.is_available()\n",
        "# For reproducibility\n",
        "torch.manual_seed(SEED)\n",
        "\n",
        "if use_cuda:\n",
        "    torch.cuda.manual_seed(SEED)"
      ],
      "execution_count": 0,
      "outputs": []
    },
    {
      "cell_type": "markdown",
      "metadata": {
        "id": "tHf3EeBhj3PM",
        "colab_type": "text"
      },
      "source": [
        "### Select the device to use"
      ]
    },
    {
      "cell_type": "code",
      "metadata": {
        "id": "R5Giyn_JiN_C",
        "colab_type": "code",
        "colab": {
          "base_uri": "https://localhost:8080/",
          "height": 34
        },
        "outputId": "0fc413d2-3fe4-4845-a0ad-dbce11dfcca0"
      },
      "source": [
        "\n",
        "device = torch.device(\"cuda\" if use_cuda else \"cpu\")\n",
        "print(device)"
      ],
      "execution_count": 3,
      "outputs": [
        {
          "output_type": "stream",
          "text": [
            "cuda\n"
          ],
          "name": "stdout"
        }
      ]
    },
    {
      "cell_type": "markdown",
      "metadata": {
        "id": "VvTW3cArgcJq",
        "colab_type": "text"
      },
      "source": [
        "### Data Transformations\n",
        "We first start with defining our data transformations. We need to think what our data is and how can we augment it to correct represent images which it might not see otherwise."
      ]
    },
    {
      "cell_type": "code",
      "metadata": {
        "id": "jhpWm9iIgWKJ",
        "colab_type": "code",
        "colab": {}
      },
      "source": [
        "# Train Phase transformations\n",
        "train_transforms = transforms.Compose([\n",
        "                                      #  transforms.Resize((28, 28)),\n",
        "                                      #  transforms.ColorJitter(brightness=0.10, contrast=0.1, saturation=0.10, hue=0.1),\n",
        "                                       transforms.RandomRotation((-7.0, 7.0), fill=(1,)),\n",
        "                                       transforms.ToTensor(),\n",
        "                                       transforms.Normalize((0.1307,), (0.3081,)) # The mean and std have to be sequences (e.g., tuples), therefore you should add a comma after the values. \n",
        "                                       # Note the difference between (0.1307) and (0.1307,)\n",
        "                                       ])\n",
        "\n",
        "# Test Phase transformations\n",
        "test_transforms = transforms.Compose([\n",
        "                                      #  transforms.Resize((28, 28)),\n",
        "                                      #  transforms.ColorJitter(brightness=0.10, contrast=0.1, saturation=0.10, hue=0.1),\n",
        "                                       transforms.ToTensor(),\n",
        "                                       transforms.Normalize((0.1307,), (0.3081,))\n",
        "                                       ])"
      ],
      "execution_count": 0,
      "outputs": []
    },
    {
      "cell_type": "code",
      "metadata": {
        "id": "o2-kyEjWfphQ",
        "colab_type": "code",
        "colab": {}
      },
      "source": [
        "torch.manual_seed(1)\n",
        "batch_size = 128\n",
        "\n",
        "\n",
        "# dataloader arguments - something you'll fetch these from cmdprmt\n",
        "dataloader_args = dict(shuffle=True, batch_size=batch_size, num_workers=8, pin_memory=True) if use_cuda else dict(shuffle=True, batch_size=64)\n",
        "\n",
        "train_loader = torch.utils.data.DataLoader(datasets.MNIST('../data', train=True, download=True, transform=train_transforms),\n",
        "                                            **dataloader_args)\n",
        "\n",
        "test_loader = torch.utils.data.DataLoader(datasets.MNIST('../data', train=False, download=True, transform=test_transforms),\n",
        "                                          **dataloader_args)"
      ],
      "execution_count": 0,
      "outputs": []
    },
    {
      "cell_type": "code",
      "metadata": {
        "id": "_NZas1Sv-wMO",
        "colab_type": "code",
        "colab": {}
      },
      "source": [
        ""
      ],
      "execution_count": 0,
      "outputs": []
    },
    {
      "cell_type": "markdown",
      "metadata": {
        "id": "S8lERyTZk8zB",
        "colab_type": "text"
      },
      "source": [
        "### Define the Model"
      ]
    },
    {
      "cell_type": "code",
      "metadata": {
        "id": "ADmYI9RvgUcF",
        "colab_type": "code",
        "colab": {}
      },
      "source": [
        "dropout_value = 0.2\n",
        "\n",
        "OP_CH_CONV_BLK1  = 16\n",
        "OP_CH_CONV_BLK2  = 12\n",
        "OP_CH_CONV_BLK21 = 32\n",
        "OP_CH_CONV_BLK3  = 12\n",
        "OP_CH_CONV_BLK4  = 12\n",
        "OP_CH_CONV_BLK5  = 12\n",
        "OP_CH_CONV_BLK6  = 12\n",
        "OP_CH_CONV_BLK7  = 12\n",
        "OP_CH_CONV_BLK71 = 32\n",
        "OP_NODES = 10\n",
        "\n",
        "\n",
        "class Net(nn.Module):\n",
        "    def __init__(self):\n",
        "        super(Net, self).__init__()\n",
        "        # Input Block\n",
        "        self.convblock1 = nn.Sequential(nn.Conv2d(in_channels=1, out_channels=OP_CH_CONV_BLK1, kernel_size=(3, 3), padding=0, bias=False),\n",
        "                                        nn.ReLU(),\n",
        "                                        nn.Dropout(dropout_value),\n",
        "                                        nn.BatchNorm2d(OP_CH_CONV_BLK1)\n",
        "                                        ) # output_size = 26\n",
        "\n",
        "        # CONVOLUTION BLOCK 1\n",
        "        self.convblock2 = nn.Sequential(nn.Conv2d(in_channels=OP_CH_CONV_BLK1, out_channels=OP_CH_CONV_BLK2, kernel_size=(3, 3), padding=0, bias=False),\n",
        "                                        nn.ReLU(),\n",
        "                                        nn.Dropout(dropout_value),\n",
        "                                        nn.BatchNorm2d(OP_CH_CONV_BLK2)\n",
        "                                        ) # output_size = 24\n",
        "\n",
        "\n",
        "        self.convblock21 = nn.Sequential(\n",
        "                                        nn.Conv2d(in_channels=OP_CH_CONV_BLK2, out_channels=OP_CH_CONV_BLK21, kernel_size=(1, 1), padding=0, bias=False),\n",
        "                                        nn.ReLU(),\n",
        "                                        nn.Dropout(dropout_value),\n",
        "                                        nn.BatchNorm2d(OP_CH_CONV_BLK21)\n",
        "                                        ) # output_size = 22\n",
        "        # TRANSITION BLOCK 1\n",
        "        self.pool1 = nn.MaxPool2d(2, 2) # output_size = 12\n",
        "\n",
        "        self.convblock3 = nn.Sequential(\n",
        "                                        nn.Conv2d(in_channels=OP_CH_CONV_BLK21, out_channels=OP_CH_CONV_BLK3, kernel_size=(3, 3), padding=0, bias=False),\n",
        "                                        nn.ReLU(),\n",
        "                                        nn.Dropout(dropout_value),\n",
        "                                        nn.BatchNorm2d(OP_CH_CONV_BLK3)\n",
        "                                        ) # output_size = 10\n",
        "\n",
        "\n",
        "        self.convblock4 = nn.Sequential(\n",
        "                                        nn.Conv2d(in_channels=OP_CH_CONV_BLK3, out_channels=OP_CH_CONV_BLK4, kernel_size=(1, 1), padding=0, bias=False),\n",
        "                                        nn.ReLU(),\n",
        "                                        nn.Dropout(dropout_value),\n",
        "                                        nn.BatchNorm2d(OP_CH_CONV_BLK4)\n",
        "                                        ) # output_size = 8\n",
        "\n",
        "\n",
        "        # CONVOLUTION BLOCK 2\n",
        "        self.convblock5 = nn.Sequential(\n",
        "                                        nn.Conv2d(in_channels=OP_CH_CONV_BLK4, out_channels=OP_CH_CONV_BLK5, kernel_size=(3, 3), padding=0, bias=False),\n",
        "                                        nn.ReLU(),\n",
        "                                        nn.Dropout(dropout_value),\n",
        "                                        nn.BatchNorm2d(OP_CH_CONV_BLK5)\n",
        "                                        ) # output_size = 6\n",
        "\n",
        "        self.convblock6 = nn.Sequential(\n",
        "                                        nn.Conv2d(in_channels=OP_CH_CONV_BLK5, out_channels=OP_CH_CONV_BLK6, kernel_size=(3, 3), padding=0, bias=False),\n",
        "                                        nn.ReLU(),\n",
        "                                        nn.Dropout(dropout_value),\n",
        "                                        nn.BatchNorm2d(OP_CH_CONV_BLK6)\n",
        "                                        ) # output_size = 4\n",
        "\n",
        "        self.convblock7 = nn.Sequential(\n",
        "                                          nn.Conv2d(in_channels=OP_CH_CONV_BLK6, out_channels=OP_CH_CONV_BLK7, kernel_size=(3, 3), padding=0, bias=False),\n",
        "                                          nn.ReLU(),\n",
        "                                          nn.Dropout(dropout_value),\n",
        "                                          nn.BatchNorm2d(OP_CH_CONV_BLK7)\n",
        "                                          ) # output_size = 2\n",
        "\n",
        "        self.convblock71 = nn.Sequential(\n",
        "                                          nn.Conv2d(in_channels=OP_CH_CONV_BLK7, out_channels=OP_CH_CONV_BLK71, kernel_size=(1, 1), padding=0, bias=False),\n",
        "                                          nn.ReLU(),\n",
        "                                          nn.Dropout(dropout_value),\n",
        "                                          nn.BatchNorm2d(OP_CH_CONV_BLK71)\n",
        "                                          ) # output_size = 2\n",
        "        # OUTPUT BLOCK\n",
        "        self.gap = nn.Sequential(\n",
        "                                  nn.AvgPool2d(kernel_size=4),\n",
        "                                  nn.ReLU(),\n",
        "                                  nn.BatchNorm2d(OP_CH_CONV_BLK71),\n",
        "                                  #nn.Dropout(dropout_value)\n",
        "                                  ) # output_size = 1\n",
        "\n",
        "        self.convblock8 = nn.Sequential(\n",
        "                                        nn.Conv2d(in_channels=OP_CH_CONV_BLK71, out_channels=OP_NODES, kernel_size=(1, 1), padding=0, bias=False),\n",
        "                                        # nn.BatchNorm2d(10), NEVER\n",
        "                                        # nn.ReLU() NEVER!\n",
        "                                        ) # output_size = 1\n",
        "\n",
        "\n",
        "    def forward(self, x):\n",
        "        x = self.convblock1(x)# 26x26\n",
        "        x = self.convblock2(x)# 24x24\n",
        "        x = self.convblock21(x)# 24x24\n",
        "        x = self.pool1(x) # 12x12\n",
        "        x = self.convblock3(x)# 10x10\n",
        "        x = self.convblock4(x) # 8x8\n",
        "        x = self.convblock5(x) # 6x6\n",
        "        x = self.convblock6(x) # 4x4\n",
        "        x = self.convblock7(x) # 2x2\n",
        "        x = self.convblock71(x) # 2x2\n",
        "        x = self.gap(x)\n",
        "        x = self.convblock8(x) #1x1\n",
        "        x = x.view(-1, OP_NODES)\n",
        "        return F.log_softmax(x, dim=-1)"
      ],
      "execution_count": 0,
      "outputs": []
    },
    {
      "cell_type": "markdown",
      "metadata": {
        "id": "J7FGhxt8lICR",
        "colab_type": "text"
      },
      "source": [
        "#### Model *Summary*"
      ]
    },
    {
      "cell_type": "code",
      "metadata": {
        "id": "5xNDUeGxlC7o",
        "colab_type": "code",
        "colab": {
          "base_uri": "https://localhost:8080/",
          "height": 935
        },
        "outputId": "592a9faa-b023-40a9-d96a-559e4d2886c2"
      },
      "source": [
        "model = Net().to(device)\n",
        "summary(model, input_size=(1, 28, 28))"
      ],
      "execution_count": 10,
      "outputs": [
        {
          "output_type": "stream",
          "text": [
            "----------------------------------------------------------------\n",
            "        Layer (type)               Output Shape         Param #\n",
            "================================================================\n",
            "            Conv2d-1           [-1, 16, 26, 26]             144\n",
            "              ReLU-2           [-1, 16, 26, 26]               0\n",
            "           Dropout-3           [-1, 16, 26, 26]               0\n",
            "       BatchNorm2d-4           [-1, 16, 26, 26]              32\n",
            "            Conv2d-5           [-1, 12, 24, 24]           1,728\n",
            "              ReLU-6           [-1, 12, 24, 24]               0\n",
            "           Dropout-7           [-1, 12, 24, 24]               0\n",
            "       BatchNorm2d-8           [-1, 12, 24, 24]              24\n",
            "            Conv2d-9           [-1, 32, 24, 24]             384\n",
            "             ReLU-10           [-1, 32, 24, 24]               0\n",
            "          Dropout-11           [-1, 32, 24, 24]               0\n",
            "      BatchNorm2d-12           [-1, 32, 24, 24]              64\n",
            "        MaxPool2d-13           [-1, 32, 12, 12]               0\n",
            "           Conv2d-14           [-1, 12, 10, 10]           3,456\n",
            "             ReLU-15           [-1, 12, 10, 10]               0\n",
            "          Dropout-16           [-1, 12, 10, 10]               0\n",
            "      BatchNorm2d-17           [-1, 12, 10, 10]              24\n",
            "           Conv2d-18           [-1, 12, 10, 10]             144\n",
            "             ReLU-19           [-1, 12, 10, 10]               0\n",
            "          Dropout-20           [-1, 12, 10, 10]               0\n",
            "      BatchNorm2d-21           [-1, 12, 10, 10]              24\n",
            "           Conv2d-22             [-1, 12, 8, 8]           1,296\n",
            "             ReLU-23             [-1, 12, 8, 8]               0\n",
            "          Dropout-24             [-1, 12, 8, 8]               0\n",
            "      BatchNorm2d-25             [-1, 12, 8, 8]              24\n",
            "           Conv2d-26             [-1, 12, 6, 6]           1,296\n",
            "             ReLU-27             [-1, 12, 6, 6]               0\n",
            "          Dropout-28             [-1, 12, 6, 6]               0\n",
            "      BatchNorm2d-29             [-1, 12, 6, 6]              24\n",
            "           Conv2d-30             [-1, 12, 4, 4]           1,296\n",
            "             ReLU-31             [-1, 12, 4, 4]               0\n",
            "          Dropout-32             [-1, 12, 4, 4]               0\n",
            "      BatchNorm2d-33             [-1, 12, 4, 4]              24\n",
            "           Conv2d-34             [-1, 32, 4, 4]             384\n",
            "             ReLU-35             [-1, 32, 4, 4]               0\n",
            "          Dropout-36             [-1, 32, 4, 4]               0\n",
            "      BatchNorm2d-37             [-1, 32, 4, 4]              64\n",
            "        AvgPool2d-38             [-1, 32, 1, 1]               0\n",
            "             ReLU-39             [-1, 32, 1, 1]               0\n",
            "      BatchNorm2d-40             [-1, 32, 1, 1]              64\n",
            "           Conv2d-41             [-1, 10, 1, 1]             320\n",
            "================================================================\n",
            "Total params: 10,816\n",
            "Trainable params: 10,816\n",
            "Non-trainable params: 0\n",
            "----------------------------------------------------------------\n",
            "Input size (MB): 0.00\n",
            "Forward/backward pass size (MB): 1.27\n",
            "Params size (MB): 0.04\n",
            "Estimated Total Size (MB): 1.32\n",
            "----------------------------------------------------------------\n"
          ],
          "name": "stdout"
        }
      ]
    },
    {
      "cell_type": "markdown",
      "metadata": {
        "id": "ZbFxykEZwkpb",
        "colab_type": "text"
      },
      "source": [
        "##### Deifine the loss functin and the optimizer"
      ]
    },
    {
      "cell_type": "code",
      "metadata": {
        "id": "txIRf_UawlLn",
        "colab_type": "code",
        "colab": {}
      },
      "source": [
        ""
      ],
      "execution_count": 0,
      "outputs": []
    },
    {
      "cell_type": "markdown",
      "metadata": {
        "id": "wTQHMaQWw4SL",
        "colab_type": "text"
      },
      "source": [
        "##### Define the test and train function"
      ]
    },
    {
      "cell_type": "code",
      "metadata": {
        "id": "r4qVeDZLlKhE",
        "colab_type": "code",
        "colab": {}
      },
      "source": [
        "def train(model,\n",
        "          train_loader,\n",
        "          optimizer,\n",
        "          loss_function,\n",
        "          device,\n",
        "          current_epoch,\n",
        "          loss_array,\n",
        "          acc_array):\n",
        "  \n",
        "    print(\"Started Epoch {}....\\n\".format(current_epoch+1))\n",
        "    #set model to train\n",
        "    model.train()\n",
        "    pbar = tqdm(train_loader)\n",
        "\n",
        "    correct = 0\n",
        "    processed = 0\n",
        "\n",
        "    #loop over the batches of the train loader\n",
        "    for batch_idx, (data, target) in enumerate(pbar):\n",
        "        #move the data to the selected device\n",
        "        data, target = data.to(device), target.to(device)\n",
        "        #set the optimizer to zero gradients\n",
        "        optimizer.zero_grad()\n",
        "        #pass the input to the model\n",
        "        y_pred = model(data)\n",
        "        #print('1:',y_pred.shape, target.shape)\n",
        "        #caluclate the loss\n",
        "        loss = loss_function(y_pred, target)\n",
        "        #print('2:')\n",
        "        #backpropagate\n",
        "        loss.backward()\n",
        "        #optimize\n",
        "        optimizer.step()\n",
        "        #print the losses\n",
        "        pred = y_pred.argmax(dim=1, keepdim=True)  # get the index of the max log-probability\n",
        "        correct += pred.eq(target.view_as(pred)).sum().item()\n",
        "        processed += len(data)\n",
        "\n",
        "        pbar.set_description(desc= f'Loss={loss.item()} Batch_id={batch_idx} Accuracy={100*correct/processed:0.2f}')\n",
        "        \n",
        "        #collect the loss and accuracy data\n",
        "        loss_array.append(loss)\n",
        "        acc_array.append(100.0*correct/processed)\n",
        "\n",
        "\n",
        "def test(model,\n",
        "          test_loader,\n",
        "          loss_function,\n",
        "          device,\n",
        "          loss_array,\n",
        "          acc_array):\n",
        "  \n",
        "    model.eval()\n",
        "    test_loss = 0\n",
        "    correct = 0\n",
        "\n",
        "    with torch.no_grad():\n",
        "        for data, target in test_loader:\n",
        "            data, target = data.to(device), target.to(device)\n",
        "            output = model(data)\n",
        "            test_loss += loss_function(output, target, reduction='sum').item()  # sum up batch loss\n",
        "            pred = output.argmax(dim=1, keepdim=True)  # get the index of the max log-probability\n",
        "            correct += pred.eq(target.view_as(pred)).sum().item()\n",
        "\n",
        "    test_loss /= len(test_loader.dataset)\n",
        "    loss_array.append(test_loss)\n",
        "\n",
        "    print('\\nTest set: Average loss: {:.4f}, Accuracy: {}/{} ({:.0f}%)\\n'.format(\n",
        "                                                                                test_loss, correct, len(test_loader.dataset),\n",
        "                                                                                100. * correct / len(test_loader.dataset)))\n",
        "    \n",
        "    acc_array.append(100. * correct / len(test_loader.dataset))"
      ],
      "execution_count": 0,
      "outputs": []
    },
    {
      "cell_type": "markdown",
      "metadata": {
        "id": "BTJsFtfQ05h1",
        "colab_type": "text"
      },
      "source": [
        "### Let's Train and test our model"
      ]
    },
    {
      "cell_type": "markdown",
      "metadata": {
        "id": "QbOdVw2D1KsF",
        "colab_type": "text"
      },
      "source": [
        "#### Deifine the \n",
        "  - loss functin\n",
        "  - optimizer"
      ]
    },
    {
      "cell_type": "code",
      "metadata": {
        "id": "83sWC9-M1Nq_",
        "colab_type": "code",
        "colab": {}
      },
      "source": [
        "model =  Net().to(device)\n",
        "\n",
        "loss_function = F.nll_loss\n",
        "#loss_function = nn.CrossEntropyLoss()\n",
        "#optimizer = torch.optim.Adam(model.parameters(), lr=0.001)\n",
        "optimizer = optim.SGD(model.parameters(), lr=0.01, momentum=0.9)"
      ],
      "execution_count": 0,
      "outputs": []
    },
    {
      "cell_type": "code",
      "metadata": {
        "id": "_cNZ5h_p0r9y",
        "colab_type": "code",
        "colab": {
          "base_uri": "https://localhost:8080/",
          "height": 1000
        },
        "outputId": "432e3707-b203-41a5-820a-bf570b0385bb"
      },
      "source": [
        "train_losses = []\n",
        "test_losses = []\n",
        "train_acc = []\n",
        "test_acc = []\n",
        "\n",
        "EPOCHS = 12\n",
        "\n",
        "for epoch in range(EPOCHS):\n",
        "    train(model, train_loader, optimizer, loss_function, device, epoch, train_losses, train_acc)\n",
        "    test(model, test_loader, loss_function, device, test_losses, test_acc)"
      ],
      "execution_count": 22,
      "outputs": [
        {
          "output_type": "stream",
          "text": [
            "\r  0%|          | 0/469 [00:00<?, ?it/s]"
          ],
          "name": "stderr"
        },
        {
          "output_type": "stream",
          "text": [
            "Started Epoch 1....\n",
            "\n"
          ],
          "name": "stdout"
        },
        {
          "output_type": "stream",
          "text": [
            "Loss=0.07240008562803268 Batch_id=468 Accuracy=89.05: 100%|██████████| 469/469 [00:14<00:00, 32.26it/s]\n",
            "  0%|          | 0/469 [00:00<?, ?it/s]"
          ],
          "name": "stderr"
        },
        {
          "output_type": "stream",
          "text": [
            "\n",
            "Test set: Average loss: 0.0924, Accuracy: 9733/10000 (97%)\n",
            "\n",
            "Started Epoch 2....\n",
            "\n"
          ],
          "name": "stdout"
        },
        {
          "output_type": "stream",
          "text": [
            "Loss=0.04955221340060234 Batch_id=468 Accuracy=96.56: 100%|██████████| 469/469 [00:14<00:00, 32.94it/s]\n",
            "  0%|          | 0/469 [00:00<?, ?it/s]"
          ],
          "name": "stderr"
        },
        {
          "output_type": "stream",
          "text": [
            "\n",
            "Test set: Average loss: 0.0563, Accuracy: 9832/10000 (98%)\n",
            "\n",
            "Started Epoch 3....\n",
            "\n"
          ],
          "name": "stdout"
        },
        {
          "output_type": "stream",
          "text": [
            "Loss=0.046720411628484726 Batch_id=468 Accuracy=97.32: 100%|██████████| 469/469 [00:14<00:00, 32.43it/s]\n",
            "  0%|          | 0/469 [00:00<?, ?it/s]"
          ],
          "name": "stderr"
        },
        {
          "output_type": "stream",
          "text": [
            "\n",
            "Test set: Average loss: 0.0443, Accuracy: 9865/10000 (99%)\n",
            "\n",
            "Started Epoch 4....\n",
            "\n"
          ],
          "name": "stdout"
        },
        {
          "output_type": "stream",
          "text": [
            "Loss=0.03865278139710426 Batch_id=468 Accuracy=97.56: 100%|██████████| 469/469 [00:14<00:00, 32.27it/s]\n",
            "  0%|          | 0/469 [00:00<?, ?it/s]"
          ],
          "name": "stderr"
        },
        {
          "output_type": "stream",
          "text": [
            "\n",
            "Test set: Average loss: 0.0436, Accuracy: 9861/10000 (99%)\n",
            "\n",
            "Started Epoch 5....\n",
            "\n"
          ],
          "name": "stdout"
        },
        {
          "output_type": "stream",
          "text": [
            "Loss=0.07221149653196335 Batch_id=468 Accuracy=97.82: 100%|██████████| 469/469 [00:14<00:00, 32.10it/s]\n",
            "  0%|          | 0/469 [00:00<?, ?it/s]"
          ],
          "name": "stderr"
        },
        {
          "output_type": "stream",
          "text": [
            "\n",
            "Test set: Average loss: 0.0343, Accuracy: 9885/10000 (99%)\n",
            "\n",
            "Started Epoch 6....\n",
            "\n"
          ],
          "name": "stdout"
        },
        {
          "output_type": "stream",
          "text": [
            "Loss=0.043104544281959534 Batch_id=468 Accuracy=98.01: 100%|██████████| 469/469 [00:14<00:00, 32.30it/s]\n",
            "  0%|          | 0/469 [00:00<?, ?it/s]"
          ],
          "name": "stderr"
        },
        {
          "output_type": "stream",
          "text": [
            "\n",
            "Test set: Average loss: 0.0343, Accuracy: 9898/10000 (99%)\n",
            "\n",
            "Started Epoch 7....\n",
            "\n"
          ],
          "name": "stdout"
        },
        {
          "output_type": "stream",
          "text": [
            "Loss=0.062177713960409164 Batch_id=468 Accuracy=98.00: 100%|██████████| 469/469 [00:14<00:00, 32.00it/s]\n",
            "  0%|          | 0/469 [00:00<?, ?it/s]"
          ],
          "name": "stderr"
        },
        {
          "output_type": "stream",
          "text": [
            "\n",
            "Test set: Average loss: 0.0353, Accuracy: 9887/10000 (99%)\n",
            "\n",
            "Started Epoch 8....\n",
            "\n"
          ],
          "name": "stdout"
        },
        {
          "output_type": "stream",
          "text": [
            "Loss=0.06845096498727798 Batch_id=468 Accuracy=98.22: 100%|██████████| 469/469 [00:14<00:00, 32.32it/s]\n",
            "  0%|          | 0/469 [00:00<?, ?it/s]"
          ],
          "name": "stderr"
        },
        {
          "output_type": "stream",
          "text": [
            "\n",
            "Test set: Average loss: 0.0295, Accuracy: 9902/10000 (99%)\n",
            "\n",
            "Started Epoch 9....\n",
            "\n"
          ],
          "name": "stdout"
        },
        {
          "output_type": "stream",
          "text": [
            "Loss=0.07344513386487961 Batch_id=468 Accuracy=98.22: 100%|██████████| 469/469 [00:14<00:00, 32.32it/s]\n",
            "  0%|          | 0/469 [00:00<?, ?it/s]"
          ],
          "name": "stderr"
        },
        {
          "output_type": "stream",
          "text": [
            "\n",
            "Test set: Average loss: 0.0297, Accuracy: 9909/10000 (99%)\n",
            "\n",
            "Started Epoch 10....\n",
            "\n"
          ],
          "name": "stdout"
        },
        {
          "output_type": "stream",
          "text": [
            "Loss=0.031118547543883324 Batch_id=468 Accuracy=98.18: 100%|██████████| 469/469 [00:14<00:00, 32.46it/s]\n",
            "  0%|          | 0/469 [00:00<?, ?it/s]"
          ],
          "name": "stderr"
        },
        {
          "output_type": "stream",
          "text": [
            "\n",
            "Test set: Average loss: 0.0304, Accuracy: 9895/10000 (99%)\n",
            "\n",
            "Started Epoch 11....\n",
            "\n"
          ],
          "name": "stdout"
        },
        {
          "output_type": "stream",
          "text": [
            "Loss=0.007821847684681416 Batch_id=468 Accuracy=98.30: 100%|██████████| 469/469 [00:14<00:00, 32.74it/s]\n",
            "  0%|          | 0/469 [00:00<?, ?it/s]"
          ],
          "name": "stderr"
        },
        {
          "output_type": "stream",
          "text": [
            "\n",
            "Test set: Average loss: 0.0299, Accuracy: 9910/10000 (99%)\n",
            "\n",
            "Started Epoch 12....\n",
            "\n"
          ],
          "name": "stdout"
        },
        {
          "output_type": "stream",
          "text": [
            "Loss=0.04811506345868111 Batch_id=468 Accuracy=98.36: 100%|██████████| 469/469 [00:14<00:00, 32.60it/s]\n"
          ],
          "name": "stderr"
        },
        {
          "output_type": "stream",
          "text": [
            "\n",
            "Test set: Average loss: 0.0308, Accuracy: 9904/10000 (99%)\n",
            "\n"
          ],
          "name": "stdout"
        }
      ]
    },
    {
      "cell_type": "code",
      "metadata": {
        "id": "xMbWr0dONd8d",
        "colab_type": "code",
        "colab": {
          "base_uri": "https://localhost:8080/",
          "height": 624
        },
        "outputId": "e6baf4ee-b17d-460e-a6a3-a96ad430aa47"
      },
      "source": [
        "import matplotlib.pyplot as plt\n",
        "\n",
        "\n",
        "fig, axs = plt.subplots(2,2,figsize=(15,10))\n",
        "axs[0, 0].plot(train_losses)\n",
        "axs[0, 0].set_title(\"Training Loss\")\n",
        "axs[1, 0].plot(train_acc)\n",
        "axs[1, 0].set_title(\"Training Accuracy\")\n",
        "axs[0, 1].plot(test_losses)\n",
        "axs[0, 1].set_title(\"Test Loss\")\n",
        "axs[1, 1].plot(test_acc)\n",
        "axs[1, 1].set_title(\"Test Accuracy\")"
      ],
      "execution_count": 24,
      "outputs": [
        {
          "output_type": "execute_result",
          "data": {
            "text/plain": [
              "Text(0.5, 1.0, 'Test Accuracy')"
            ]
          },
          "metadata": {
            "tags": []
          },
          "execution_count": 24
        },
        {
          "output_type": "display_data",
          "data": {
            "image/png": "[encoded data removed]",
            "text/plain": [
              "<Figure size 1080x720 with 4 Axes>"
            ]
          },
          "metadata": {
            "tags": [],
            "needs_background": "light"
          }
        }
      ]
    },
    {
      "cell_type": "code",
      "metadata": {
        "id": "wVrUw0dP2Gva",
        "colab_type": "code",
        "colab": {}
      },
      "source": [
        "dropout_value = 0.1\n",
        "class Net1(nn.Module):\n",
        "    def __init__(self):\n",
        "        super(Net1, self).__init__()\n",
        "        # Input Block\n",
        "        self.convblock1 = nn.Sequential(\n",
        "            nn.Conv2d(in_channels=1, out_channels=13, kernel_size=(3, 3), padding=0, bias=False),\n",
        "            nn.ReLU(),\n",
        "            nn.Dropout(dropout_value),\n",
        "            nn.BatchNorm2d(13)\n",
        "            \n",
        "        ) # output_size = 26\n",
        "\n",
        "        # CONVOLUTION BLOCK 1\n",
        "        self.convblock2 = nn.Sequential(\n",
        "            nn.Conv2d(in_channels=13, out_channels=13, kernel_size=(3, 3), padding=0, bias=False),\n",
        "            nn.ReLU(),\n",
        "            nn.Dropout(dropout_value),\n",
        "            nn.BatchNorm2d(13)\n",
        "        ) # output_size = 24\n",
        "        self.convblock3 = nn.Sequential(\n",
        "            nn.Conv2d(in_channels=13, out_channels=12, kernel_size=(3, 3), padding=0, bias=False),\n",
        "            nn.ReLU(),\n",
        "            nn.Dropout(dropout_value),\n",
        "            nn.BatchNorm2d(12)\n",
        "        ) # output_size = 22\n",
        "\n",
        "        self.convblock31 = nn.Sequential(\n",
        "            nn.Conv2d(in_channels=12, out_channels=12, kernel_size=(1, 1), padding=0, bias=False),\n",
        "            nn.ReLU(),\n",
        "            nn.Dropout(dropout_value),\n",
        "            nn.BatchNorm2d(12)\n",
        "        ) # output_size = 22\n",
        "\n",
        "        # TRANSITION BLOCK 1\n",
        "        self.pool1 = nn.MaxPool2d(2, 2) # output_size = 11\n",
        "        self.convblock4 = nn.Sequential(\n",
        "            nn.Conv2d(in_channels=12, out_channels=12, kernel_size=(1, 1), padding=0, bias=False),\n",
        "            nn.ReLU(),\n",
        "            nn.Dropout(dropout_value),\n",
        "            nn.BatchNorm2d(12)\n",
        "        ) # output_size = 11\n",
        "\n",
        "        # CONVOLUTION BLOCK 2\n",
        "        self.convblock5 = nn.Sequential(\n",
        "            nn.Conv2d(in_channels=12, out_channels=12, kernel_size=(3, 3), padding=0, bias=False),\n",
        "            nn.ReLU(),\n",
        "            nn.Dropout(dropout_value),\n",
        "            nn.BatchNorm2d(12)\n",
        "        ) # output_size = 9\n",
        "        self.convblock6 = nn.Sequential(\n",
        "            nn.Conv2d(in_channels=12, out_channels=12, kernel_size=(3, 3), padding=0, bias=False),\n",
        "            nn.ReLU(),\n",
        "            nn.Dropout(dropout_value),\n",
        "            nn.BatchNorm2d(12)\n",
        "        ) # output_size = 7\n",
        "\n",
        "        self.convblock7 = nn.Sequential(\n",
        "            nn.Conv2d(in_channels=12, out_channels=12, kernel_size=(1, 1), padding=0, bias=False),\n",
        "            nn.ReLU(),\n",
        "            nn.Dropout(dropout_value),\n",
        "            nn.BatchNorm2d(12)\n",
        "        ) # output_size = 7\n",
        "\n",
        "        self.convblock71 = nn.Sequential(\n",
        "            nn.Conv2d(in_channels=12, out_channels=20, kernel_size=(3, 3), padding=0, bias=False),\n",
        "            nn.ReLU(),\n",
        "            nn.Dropout(dropout_value),\n",
        "            nn.BatchNorm2d(20)\n",
        "        ) # output_size = 7\n",
        "\n",
        "        self.convblock72 = nn.Sequential(\n",
        "            nn.Conv2d(in_channels=20, out_channels=48, kernel_size=(1, 1), padding=0, bias=False),\n",
        "            nn.ReLU(),\n",
        "            nn.Dropout(dropout_value),\n",
        "            nn.BatchNorm2d(48)\n",
        "        ) # output_size = 7\n",
        "\n",
        "        # OUTPUT BLOCK\n",
        "        self.gap = nn.Sequential(\n",
        "            nn.AvgPool2d(kernel_size=5),\n",
        "            nn.ReLU(),\n",
        "            nn.BatchNorm2d(48),\n",
        "            #nn.Dropout(dropout_value)\n",
        "        ) # output_size = 1\n",
        "\n",
        "        self.convblock8 = nn.Sequential(\n",
        "            nn.Conv2d(in_channels=48, out_channels=10, kernel_size=(1, 1), padding=0, bias=False),\n",
        "            # nn.BatchNorm2d(10), NEVER\n",
        "            # nn.ReLU() NEVER!\n",
        "        ) # output_size = 1\n",
        "\n",
        "\n",
        "    def forward(self, x):\n",
        "        x = self.convblock1(x)# 26x26\n",
        "        x = self.convblock2(x)# 24x24\n",
        "        x = self.convblock3(x)# 22x22\n",
        "        x = self.convblock31(x)# 22x22\n",
        "        x = self.pool1(x) # 11x11\n",
        "\n",
        "        \n",
        "        x = self.convblock4(x) # 11x11\n",
        "        x = self.convblock5(x) # 9x9\n",
        "        x = self.convblock6(x) # 7x7\n",
        "        x = self.convblock7(x) # 7x7\n",
        "        x = self.convblock71(x) # 5x5\n",
        "        x = self.convblock72(x) # 5x5\n",
        "        x = self.gap(x)\n",
        "        x = self.convblock8(x) #1x1\n",
        "        x = x.view(-1, 10)\n",
        "        return F.log_softmax(x, dim=-1)"
      ],
      "execution_count": 0,
      "outputs": []
    },
    {
      "cell_type": "code",
      "metadata": {
        "id": "5x68-8lkL9LI",
        "colab_type": "code",
        "colab": {}
      },
      "source": [
        "model1 =  Net1().to(device)\n",
        "\n",
        "\n",
        "loss_function = F.nll_loss\n",
        "#loss_function = nn.CrossEntropyLoss()\n",
        "#optimizer = torch.optim.Adam(model.parameters(), lr=0.001)\n",
        "optimizer = optim.SGD(model1.parameters(), lr=0.01, momentum=0.9)\n",
        "\n",
        "\n",
        "EPOCHS = 12"
      ],
      "execution_count": 0,
      "outputs": []
    },
    {
      "cell_type": "code",
      "metadata": {
        "id": "k1rJEr-gMKpT",
        "colab_type": "code",
        "colab": {
          "base_uri": "https://localhost:8080/",
          "height": 1000
        },
        "outputId": "7a8e9433-4dcd-4bce-90bc-58fa4ff6d499"
      },
      "source": [
        "train_losses = []\n",
        "test_losses = []\n",
        "train_acc = []\n",
        "test_acc = []\n",
        "\n",
        "\n",
        "for epoch in range(EPOCHS):\n",
        "    train(model1, train_loader, optimizer, loss_function, device, epoch, train_losses, train_acc)\n",
        "    test(model1, test_loader, loss_function, device, test_losses, test_acc)"
      ],
      "execution_count": 29,
      "outputs": [
        {
          "output_type": "stream",
          "text": [
            "\r  0%|          | 0/469 [00:00<?, ?it/s]"
          ],
          "name": "stderr"
        },
        {
          "output_type": "stream",
          "text": [
            "Started Epoch 1....\n",
            "\n"
          ],
          "name": "stdout"
        },
        {
          "output_type": "stream",
          "text": [
            "Loss=0.18022233247756958 Batch_id=468 Accuracy=87.39: 100%|██████████| 469/469 [00:14<00:00, 31.60it/s]\n",
            "  0%|          | 0/469 [00:00<?, ?it/s]"
          ],
          "name": "stderr"
        },
        {
          "output_type": "stream",
          "text": [
            "\n",
            "Test set: Average loss: 0.0889, Accuracy: 9721/10000 (97%)\n",
            "\n",
            "Started Epoch 2....\n",
            "\n"
          ],
          "name": "stdout"
        },
        {
          "output_type": "stream",
          "text": [
            "Loss=0.13723701238632202 Batch_id=468 Accuracy=96.07: 100%|██████████| 469/469 [00:14<00:00, 31.96it/s]\n",
            "  0%|          | 0/469 [00:00<?, ?it/s]"
          ],
          "name": "stderr"
        },
        {
          "output_type": "stream",
          "text": [
            "\n",
            "Test set: Average loss: 0.0573, Accuracy: 9828/10000 (98%)\n",
            "\n",
            "Started Epoch 3....\n",
            "\n"
          ],
          "name": "stdout"
        },
        {
          "output_type": "stream",
          "text": [
            "Loss=0.13304366171360016 Batch_id=468 Accuracy=96.78: 100%|██████████| 469/469 [00:14<00:00, 31.35it/s]\n",
            "  0%|          | 0/469 [00:00<?, ?it/s]"
          ],
          "name": "stderr"
        },
        {
          "output_type": "stream",
          "text": [
            "\n",
            "Test set: Average loss: 0.0543, Accuracy: 9830/10000 (98%)\n",
            "\n",
            "Started Epoch 4....\n",
            "\n"
          ],
          "name": "stdout"
        },
        {
          "output_type": "stream",
          "text": [
            "Loss=0.029128441587090492 Batch_id=468 Accuracy=97.06: 100%|██████████| 469/469 [00:14<00:00, 32.00it/s]\n",
            "  0%|          | 0/469 [00:00<?, ?it/s]"
          ],
          "name": "stderr"
        },
        {
          "output_type": "stream",
          "text": [
            "\n",
            "Test set: Average loss: 0.0491, Accuracy: 9847/10000 (98%)\n",
            "\n",
            "Started Epoch 5....\n",
            "\n"
          ],
          "name": "stdout"
        },
        {
          "output_type": "stream",
          "text": [
            "Loss=0.09658411145210266 Batch_id=468 Accuracy=97.32: 100%|██████████| 469/469 [00:14<00:00, 31.74it/s]\n",
            "  0%|          | 0/469 [00:00<?, ?it/s]"
          ],
          "name": "stderr"
        },
        {
          "output_type": "stream",
          "text": [
            "\n",
            "Test set: Average loss: 0.0428, Accuracy: 9872/10000 (99%)\n",
            "\n",
            "Started Epoch 6....\n",
            "\n"
          ],
          "name": "stdout"
        },
        {
          "output_type": "stream",
          "text": [
            "Loss=0.06465945392847061 Batch_id=468 Accuracy=97.70: 100%|██████████| 469/469 [00:14<00:00, 31.76it/s]\n",
            "  0%|          | 0/469 [00:00<?, ?it/s]"
          ],
          "name": "stderr"
        },
        {
          "output_type": "stream",
          "text": [
            "\n",
            "Test set: Average loss: 0.0431, Accuracy: 9883/10000 (99%)\n",
            "\n",
            "Started Epoch 7....\n",
            "\n"
          ],
          "name": "stdout"
        },
        {
          "output_type": "stream",
          "text": [
            "Loss=0.019564112648367882 Batch_id=468 Accuracy=97.75: 100%|██████████| 469/469 [00:14<00:00, 31.54it/s]\n",
            "  0%|          | 0/469 [00:00<?, ?it/s]"
          ],
          "name": "stderr"
        },
        {
          "output_type": "stream",
          "text": [
            "\n",
            "Test set: Average loss: 0.0456, Accuracy: 9868/10000 (99%)\n",
            "\n",
            "Started Epoch 8....\n",
            "\n"
          ],
          "name": "stdout"
        },
        {
          "output_type": "stream",
          "text": [
            "Loss=0.09514179825782776 Batch_id=468 Accuracy=97.86: 100%|██████████| 469/469 [00:14<00:00, 31.64it/s]\n",
            "  0%|          | 0/469 [00:00<?, ?it/s]"
          ],
          "name": "stderr"
        },
        {
          "output_type": "stream",
          "text": [
            "\n",
            "Test set: Average loss: 0.0369, Accuracy: 9887/10000 (99%)\n",
            "\n",
            "Started Epoch 9....\n",
            "\n"
          ],
          "name": "stdout"
        },
        {
          "output_type": "stream",
          "text": [
            "Loss=0.09443650394678116 Batch_id=468 Accuracy=98.01: 100%|██████████| 469/469 [00:14<00:00, 31.98it/s]\n",
            "  0%|          | 0/469 [00:00<?, ?it/s]"
          ],
          "name": "stderr"
        },
        {
          "output_type": "stream",
          "text": [
            "\n",
            "Test set: Average loss: 0.0434, Accuracy: 9868/10000 (99%)\n",
            "\n",
            "Started Epoch 10....\n",
            "\n"
          ],
          "name": "stdout"
        },
        {
          "output_type": "stream",
          "text": [
            "Loss=0.047059983015060425 Batch_id=468 Accuracy=98.10: 100%|██████████| 469/469 [00:14<00:00, 31.57it/s]\n",
            "  0%|          | 0/469 [00:00<?, ?it/s]"
          ],
          "name": "stderr"
        },
        {
          "output_type": "stream",
          "text": [
            "\n",
            "Test set: Average loss: 0.0328, Accuracy: 9908/10000 (99%)\n",
            "\n",
            "Started Epoch 11....\n",
            "\n"
          ],
          "name": "stdout"
        },
        {
          "output_type": "stream",
          "text": [
            "Loss=0.05045679211616516 Batch_id=468 Accuracy=98.18: 100%|██████████| 469/469 [00:14<00:00, 31.72it/s]\n",
            "  0%|          | 0/469 [00:00<?, ?it/s]"
          ],
          "name": "stderr"
        },
        {
          "output_type": "stream",
          "text": [
            "\n",
            "Test set: Average loss: 0.0395, Accuracy: 9886/10000 (99%)\n",
            "\n",
            "Started Epoch 12....\n",
            "\n"
          ],
          "name": "stdout"
        },
        {
          "output_type": "stream",
          "text": [
            "Loss=0.0982556939125061 Batch_id=468 Accuracy=98.25: 100%|██████████| 469/469 [00:14<00:00, 31.30it/s]\n"
          ],
          "name": "stderr"
        },
        {
          "output_type": "stream",
          "text": [
            "\n",
            "Test set: Average loss: 0.0395, Accuracy: 9875/10000 (99%)\n",
            "\n"
          ],
          "name": "stdout"
        }
      ]
    },
    {
      "cell_type": "code",
      "metadata": {
        "id": "6nXK6pRlOEYC",
        "colab_type": "code",
        "colab": {
          "base_uri": "https://localhost:8080/",
          "height": 624
        },
        "outputId": "11f7d97b-c46e-40a8-ff7f-a74da57d410b"
      },
      "source": [
        "fig, axs = plt.subplots(2,2,figsize=(15,10))\n",
        "axs[0, 0].plot(train_losses)\n",
        "axs[0, 0].set_title(\"Training Loss\")\n",
        "axs[1, 0].plot(train_acc)\n",
        "axs[1, 0].set_title(\"Training Accuracy\")\n",
        "axs[0, 1].plot(test_losses)\n",
        "axs[0, 1].set_title(\"Test Loss\")\n",
        "axs[1, 1].plot(test_acc)\n",
        "axs[1, 1].set_title(\"Test Accuracy\")"
      ],
      "execution_count": 30,
      "outputs": [
        {
          "output_type": "execute_result",
          "data": {
            "text/plain": [
              "Text(0.5, 1.0, 'Test Accuracy')"
            ]
          },
          "metadata": {
            "tags": []
          },
          "execution_count": 30
        },
        {
          "output_type": "display_data",
          "data": {
            "image/png": "[encoded data removed]",
            "text/plain": [
              "<Figure size 1080x720 with 4 Axes>"
            ]
          },
          "metadata": {
            "tags": [],
            "needs_background": "light"
          }
        }
      ]
    },
    {
      "cell_type": "code",
      "metadata": {
        "id": "re7bzlRBO6q3",
        "colab_type": "code",
        "colab": {}
      },
      "source": [
        ""
      ],
      "execution_count": 0,
      "outputs": []
    }
  ]
}