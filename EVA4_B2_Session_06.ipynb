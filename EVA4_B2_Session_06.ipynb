{
  "nbformat": 4,
  "nbformat_minor": 0,
  "metadata": {
    "colab": {
      "name": "EVA4_B2_Session_06.ipynb",
      "provenance": [],
      "collapsed_sections": []
    },
    "kernelspec": {
      "name": "python3",
      "display_name": "Python 3"
    },
    "accelerator": "GPU"
  },
  "cells": [
    {
      "cell_type": "code",
      "metadata": {
        "id": "9d9MzFXdfZTe",
        "colab_type": "code",
        "colab": {}
      },
      "source": [
        "from __future__ import print_function\n",
        "import torch\n",
        "import torch.nn as nn\n",
        "import torch.nn.functional as F\n",
        "import torch.optim as optim\n",
        "from torchvision import datasets, transforms\n",
        "from torch.utils.data import Dataset, DataLoader\n",
        "import torchsummary\n",
        "from torchsummary import summary\n",
        "from tqdm import tqdm\n",
        "from torch.optim.lr_scheduler import StepLR, ReduceLROnPlateau"
      ],
      "execution_count": 0,
      "outputs": []
    },
    {
      "cell_type": "markdown",
      "metadata": {
        "id": "kW8xXQHPjLGE",
        "colab_type": "text"
      },
      "source": [
        "### For Reproducablity"
      ]
    },
    {
      "cell_type": "code",
      "metadata": {
        "id": "bNT9pEOZjJr8",
        "colab_type": "code",
        "colab": {}
      },
      "source": [
        "SEED = 1\n",
        "\n",
        "#If cuda is available\n",
        "\n",
        "use_cuda = torch.cuda.is_available()\n",
        "# For reproducibility\n",
        "torch.manual_seed(SEED)\n",
        "\n",
        "if use_cuda:\n",
        "    torch.cuda.manual_seed(SEED)"
      ],
      "execution_count": 0,
      "outputs": []
    },
    {
      "cell_type": "markdown",
      "metadata": {
        "id": "tHf3EeBhj3PM",
        "colab_type": "text"
      },
      "source": [
        "### Select the device to use"
      ]
    },
    {
      "cell_type": "code",
      "metadata": {
        "id": "R5Giyn_JiN_C",
        "colab_type": "code",
        "colab": {
          "base_uri": "https://localhost:8080/",
          "height": 34
        },
        "outputId": "395bc7a6-4998-4ca2-c984-c3c0105f0782"
      },
      "source": [
        "\n",
        "device = torch.device(\"cuda\" if use_cuda else \"cpu\")\n",
        "print(device)"
      ],
      "execution_count": 3,
      "outputs": [
        {
          "output_type": "stream",
          "text": [
            "cuda\n"
          ],
          "name": "stdout"
        }
      ]
    },
    {
      "cell_type": "markdown",
      "metadata": {
        "id": "VvTW3cArgcJq",
        "colab_type": "text"
      },
      "source": [
        "### Data Transformations\n",
        "We first start with defining our data transformations. We need to think what our data is and how can we augment it to correct represent images which it might not see otherwise."
      ]
    },
    {
      "cell_type": "code",
      "metadata": {
        "id": "jhpWm9iIgWKJ",
        "colab_type": "code",
        "colab": {}
      },
      "source": [
        "# Train Phase transformations\n",
        "train_transforms = transforms.Compose([\n",
        "                                      #  transforms.Resize((28, 28)),\n",
        "                                      #  transforms.ColorJitter(brightness=0.10, contrast=0.1, saturation=0.10, hue=0.1),\n",
        "                                       transforms.RandomRotation((-7.0, 7.0), fill=(1,)),\n",
        "                                       transforms.ToTensor(),\n",
        "                                       transforms.Normalize((0.1307,), (0.3081,)) # The mean and std have to be sequences (e.g., tuples), therefore you should add a comma after the values. \n",
        "                                       # Note the difference between (0.1307) and (0.1307,)\n",
        "                                       ])\n",
        "\n",
        "# Test Phase transformations\n",
        "test_transforms = transforms.Compose([\n",
        "                                      #  transforms.Resize((28, 28)),\n",
        "                                      #  transforms.ColorJitter(brightness=0.10, contrast=0.1, saturation=0.10, hue=0.1),\n",
        "                                       transforms.ToTensor(),\n",
        "                                       transforms.Normalize((0.1307,), (0.3081,))\n",
        "                                       ])"
      ],
      "execution_count": 0,
      "outputs": []
    },
    {
      "cell_type": "code",
      "metadata": {
        "id": "o2-kyEjWfphQ",
        "colab_type": "code",
        "colab": {}
      },
      "source": [
        "torch.manual_seed(1)\n",
        "batch_size = 128\n",
        "\n",
        "\n",
        "# dataloader arguments - something you'll fetch these from cmdprmt\n",
        "dataloader_args = dict(shuffle=True, batch_size=batch_size, num_workers=8, pin_memory=True) if use_cuda else dict(shuffle=True, batch_size=64)\n",
        "\n",
        "train_loader = torch.utils.data.DataLoader(datasets.MNIST('../data', train=True, download=True, transform=train_transforms),\n",
        "                                            **dataloader_args)\n",
        "\n",
        "test_loader = torch.utils.data.DataLoader(datasets.MNIST('../data', train=False, download=True, transform=test_transforms),\n",
        "                                          **dataloader_args)"
      ],
      "execution_count": 0,
      "outputs": []
    },
    {
      "cell_type": "code",
      "metadata": {
        "id": "_NZas1Sv-wMO",
        "colab_type": "code",
        "colab": {}
      },
      "source": [
        ""
      ],
      "execution_count": 0,
      "outputs": []
    },
    {
      "cell_type": "markdown",
      "metadata": {
        "id": "S8lERyTZk8zB",
        "colab_type": "text"
      },
      "source": [
        "### Define the Model"
      ]
    },
    {
      "cell_type": "code",
      "metadata": {
        "id": "ADmYI9RvgUcF",
        "colab_type": "code",
        "colab": {}
      },
      "source": [
        "dropout_value = 0.2\n",
        "\n",
        "OP_CH_CONV_BLK1  = 16\n",
        "OP_CH_CONV_BLK2  = 12\n",
        "OP_CH_CONV_BLK21 = 32\n",
        "OP_CH_CONV_BLK3  = 12\n",
        "OP_CH_CONV_BLK4  = 12\n",
        "OP_CH_CONV_BLK5  = 12\n",
        "OP_CH_CONV_BLK6  = 12\n",
        "OP_CH_CONV_BLK7  = 12\n",
        "OP_CH_CONV_BLK71 = 32\n",
        "OP_NODES = 10\n",
        "\n",
        "\n",
        "class Net(nn.Module):\n",
        "    def __init__(self):\n",
        "        super(Net, self).__init__()\n",
        "        # Input Block\n",
        "        self.convblock1 = nn.Sequential(nn.Conv2d(in_channels=1, out_channels=OP_CH_CONV_BLK1, kernel_size=(3, 3), padding=0, bias=False),\n",
        "                                        nn.ReLU(),\n",
        "                                        nn.Dropout(dropout_value),\n",
        "                                        nn.BatchNorm2d(OP_CH_CONV_BLK1)\n",
        "                                        ) # output_size = 26\n",
        "\n",
        "        # CONVOLUTION BLOCK 1\n",
        "        self.convblock2 = nn.Sequential(nn.Conv2d(in_channels=OP_CH_CONV_BLK1, out_channels=OP_CH_CONV_BLK2, kernel_size=(3, 3), padding=0, bias=False),\n",
        "                                        nn.ReLU(),\n",
        "                                        nn.Dropout(dropout_value),\n",
        "                                        nn.BatchNorm2d(OP_CH_CONV_BLK2)\n",
        "                                        ) # output_size = 24\n",
        "\n",
        "\n",
        "        self.convblock21 = nn.Sequential(\n",
        "                                        nn.Conv2d(in_channels=OP_CH_CONV_BLK2, out_channels=OP_CH_CONV_BLK21, kernel_size=(1, 1), padding=0, bias=False),\n",
        "                                        nn.ReLU(),\n",
        "                                        nn.Dropout(dropout_value),\n",
        "                                        nn.BatchNorm2d(OP_CH_CONV_BLK21)\n",
        "                                        ) # output_size = 22\n",
        "        # TRANSITION BLOCK 1\n",
        "        self.pool1 = nn.MaxPool2d(2, 2) # output_size = 12\n",
        "\n",
        "        self.convblock3 = nn.Sequential(\n",
        "                                        nn.Conv2d(in_channels=OP_CH_CONV_BLK21, out_channels=OP_CH_CONV_BLK3, kernel_size=(3, 3), padding=0, bias=False),\n",
        "                                        nn.ReLU(),\n",
        "                                        nn.Dropout(dropout_value),\n",
        "                                        nn.BatchNorm2d(OP_CH_CONV_BLK3)\n",
        "                                        ) # output_size = 10\n",
        "\n",
        "\n",
        "        self.convblock4 = nn.Sequential(\n",
        "                                        nn.Conv2d(in_channels=OP_CH_CONV_BLK3, out_channels=OP_CH_CONV_BLK4, kernel_size=(1, 1), padding=0, bias=False),\n",
        "                                        nn.ReLU(),\n",
        "                                        nn.Dropout(dropout_value),\n",
        "                                        nn.BatchNorm2d(OP_CH_CONV_BLK4)\n",
        "                                        ) # output_size = 8\n",
        "\n",
        "\n",
        "        # CONVOLUTION BLOCK 2\n",
        "        self.convblock5 = nn.Sequential(\n",
        "                                        nn.Conv2d(in_channels=OP_CH_CONV_BLK4, out_channels=OP_CH_CONV_BLK5, kernel_size=(3, 3), padding=0, bias=False),\n",
        "                                        nn.ReLU(),\n",
        "                                        nn.Dropout(dropout_value),\n",
        "                                        nn.BatchNorm2d(OP_CH_CONV_BLK5)\n",
        "                                        ) # output_size = 6\n",
        "\n",
        "        self.convblock6 = nn.Sequential(\n",
        "                                        nn.Conv2d(in_channels=OP_CH_CONV_BLK5, out_channels=OP_CH_CONV_BLK6, kernel_size=(3, 3), padding=0, bias=False),\n",
        "                                        nn.ReLU(),\n",
        "                                        nn.Dropout(dropout_value),\n",
        "                                        nn.BatchNorm2d(OP_CH_CONV_BLK6)\n",
        "                                        ) # output_size = 4\n",
        "\n",
        "        self.convblock7 = nn.Sequential(\n",
        "                                          nn.Conv2d(in_channels=OP_CH_CONV_BLK6, out_channels=OP_CH_CONV_BLK7, kernel_size=(3, 3), padding=0, bias=False),\n",
        "                                          nn.ReLU(),\n",
        "                                          nn.Dropout(dropout_value),\n",
        "                                          nn.BatchNorm2d(OP_CH_CONV_BLK7)\n",
        "                                          ) # output_size = 2\n",
        "\n",
        "        self.convblock71 = nn.Sequential(\n",
        "                                          nn.Conv2d(in_channels=OP_CH_CONV_BLK7, out_channels=OP_CH_CONV_BLK71, kernel_size=(1, 1), padding=0, bias=False),\n",
        "                                          nn.ReLU(),\n",
        "                                          nn.Dropout(dropout_value),\n",
        "                                          nn.BatchNorm2d(OP_CH_CONV_BLK71)\n",
        "                                          ) # output_size = 2\n",
        "        # OUTPUT BLOCK\n",
        "        self.gap = nn.Sequential(\n",
        "                                  nn.AvgPool2d(kernel_size=4),\n",
        "                                  nn.ReLU(),\n",
        "                                  nn.BatchNorm2d(OP_CH_CONV_BLK71),\n",
        "                                  #nn.Dropout(dropout_value)\n",
        "                                  ) # output_size = 1\n",
        "\n",
        "        self.convblock8 = nn.Sequential(\n",
        "                                        nn.Conv2d(in_channels=OP_CH_CONV_BLK71, out_channels=OP_NODES, kernel_size=(1, 1), padding=0, bias=False),\n",
        "                                        # nn.BatchNorm2d(10), NEVER\n",
        "                                        # nn.ReLU() NEVER!\n",
        "                                        ) # output_size = 1\n",
        "\n",
        "\n",
        "    def forward(self, x):\n",
        "        x = self.convblock1(x)# 26x26\n",
        "        x = self.convblock2(x)# 24x24\n",
        "        x = self.convblock21(x)# 24x24\n",
        "        x = self.pool1(x) # 12x12\n",
        "        x = self.convblock3(x)# 10x10\n",
        "        x = self.convblock4(x) # 8x8\n",
        "        x = self.convblock5(x) # 6x6\n",
        "        x = self.convblock6(x) # 4x4\n",
        "        x = self.convblock7(x) # 2x2\n",
        "        x = self.convblock71(x) # 2x2\n",
        "        x = self.gap(x)\n",
        "        x = self.convblock8(x) #1x1\n",
        "        x = x.view(-1, OP_NODES)\n",
        "        return F.log_softmax(x, dim=-1)"
      ],
      "execution_count": 0,
      "outputs": []
    },
    {
      "cell_type": "markdown",
      "metadata": {
        "id": "J7FGhxt8lICR",
        "colab_type": "text"
      },
      "source": [
        "#### Model *Summary*"
      ]
    },
    {
      "cell_type": "code",
      "metadata": {
        "id": "5xNDUeGxlC7o",
        "colab_type": "code",
        "colab": {
          "base_uri": "https://localhost:8080/",
          "height": 935
        },
        "outputId": "a4e43051-001d-46c2-91b8-d1cc6f3a0994"
      },
      "source": [
        "model = Net().to(device)\n",
        "summary(model, input_size=(1, 28, 28))"
      ],
      "execution_count": 57,
      "outputs": [
        {
          "output_type": "stream",
          "text": [
            "----------------------------------------------------------------\n",
            "        Layer (type)               Output Shape         Param #\n",
            "================================================================\n",
            "            Conv2d-1           [-1, 16, 26, 26]             144\n",
            "              ReLU-2           [-1, 16, 26, 26]               0\n",
            "           Dropout-3           [-1, 16, 26, 26]               0\n",
            "       BatchNorm2d-4           [-1, 16, 26, 26]              32\n",
            "            Conv2d-5           [-1, 12, 24, 24]           1,728\n",
            "              ReLU-6           [-1, 12, 24, 24]               0\n",
            "           Dropout-7           [-1, 12, 24, 24]               0\n",
            "       BatchNorm2d-8           [-1, 12, 24, 24]              24\n",
            "            Conv2d-9           [-1, 32, 24, 24]             384\n",
            "             ReLU-10           [-1, 32, 24, 24]               0\n",
            "          Dropout-11           [-1, 32, 24, 24]               0\n",
            "      BatchNorm2d-12           [-1, 32, 24, 24]              64\n",
            "        MaxPool2d-13           [-1, 32, 12, 12]               0\n",
            "           Conv2d-14           [-1, 12, 10, 10]           3,456\n",
            "             ReLU-15           [-1, 12, 10, 10]               0\n",
            "          Dropout-16           [-1, 12, 10, 10]               0\n",
            "      BatchNorm2d-17           [-1, 12, 10, 10]              24\n",
            "           Conv2d-18           [-1, 12, 10, 10]             144\n",
            "             ReLU-19           [-1, 12, 10, 10]               0\n",
            "          Dropout-20           [-1, 12, 10, 10]               0\n",
            "      BatchNorm2d-21           [-1, 12, 10, 10]              24\n",
            "           Conv2d-22             [-1, 12, 8, 8]           1,296\n",
            "             ReLU-23             [-1, 12, 8, 8]               0\n",
            "          Dropout-24             [-1, 12, 8, 8]               0\n",
            "      BatchNorm2d-25             [-1, 12, 8, 8]              24\n",
            "           Conv2d-26             [-1, 12, 6, 6]           1,296\n",
            "             ReLU-27             [-1, 12, 6, 6]               0\n",
            "          Dropout-28             [-1, 12, 6, 6]               0\n",
            "      BatchNorm2d-29             [-1, 12, 6, 6]              24\n",
            "           Conv2d-30             [-1, 12, 4, 4]           1,296\n",
            "             ReLU-31             [-1, 12, 4, 4]               0\n",
            "          Dropout-32             [-1, 12, 4, 4]               0\n",
            "      BatchNorm2d-33             [-1, 12, 4, 4]              24\n",
            "           Conv2d-34             [-1, 32, 4, 4]             384\n",
            "             ReLU-35             [-1, 32, 4, 4]               0\n",
            "          Dropout-36             [-1, 32, 4, 4]               0\n",
            "      BatchNorm2d-37             [-1, 32, 4, 4]              64\n",
            "        AvgPool2d-38             [-1, 32, 1, 1]               0\n",
            "             ReLU-39             [-1, 32, 1, 1]               0\n",
            "      BatchNorm2d-40             [-1, 32, 1, 1]              64\n",
            "           Conv2d-41             [-1, 10, 1, 1]             320\n",
            "================================================================\n",
            "Total params: 10,816\n",
            "Trainable params: 10,816\n",
            "Non-trainable params: 0\n",
            "----------------------------------------------------------------\n",
            "Input size (MB): 0.00\n",
            "Forward/backward pass size (MB): 1.27\n",
            "Params size (MB): 0.04\n",
            "Estimated Total Size (MB): 1.32\n",
            "----------------------------------------------------------------\n"
          ],
          "name": "stdout"
        }
      ]
    },
    {
      "cell_type": "markdown",
      "metadata": {
        "id": "ZbFxykEZwkpb",
        "colab_type": "text"
      },
      "source": [
        "##### Deifine the loss functin and the optimizer"
      ]
    },
    {
      "cell_type": "code",
      "metadata": {
        "id": "txIRf_UawlLn",
        "colab_type": "code",
        "colab": {}
      },
      "source": [
        ""
      ],
      "execution_count": 0,
      "outputs": []
    },
    {
      "cell_type": "markdown",
      "metadata": {
        "id": "wTQHMaQWw4SL",
        "colab_type": "text"
      },
      "source": [
        "##### Define the test and train function"
      ]
    },
    {
      "cell_type": "code",
      "metadata": {
        "id": "r4qVeDZLlKhE",
        "colab_type": "code",
        "colab": {}
      },
      "source": [
        "def train(model,\n",
        "          train_loader,\n",
        "          optimizer,\n",
        "          loss_function,\n",
        "          device,\n",
        "          current_epoch,\n",
        "          loss_array,\n",
        "          acc_array):\n",
        "  \n",
        "    print(\"Started Epoch {}....\\n\".format(current_epoch+1))\n",
        "    #set model to train\n",
        "    model.train()\n",
        "    pbar = tqdm(train_loader)\n",
        "\n",
        "    correct = 0\n",
        "    processed = 0\n",
        "\n",
        "    #loop over the batches of the train loader\n",
        "    for batch_idx, (data, target) in enumerate(pbar):\n",
        "        #move the data to the selected device\n",
        "        data, target = data.to(device), target.to(device)\n",
        "        #set the optimizer to zero gradients\n",
        "        optimizer.zero_grad()\n",
        "        #pass the input to the model\n",
        "        y_pred = model(data)\n",
        "        #print('1:',y_pred.shape, target.shape)\n",
        "        #caluclate the loss\n",
        "        loss = loss_function(y_pred, target)\n",
        "        #print('2:')\n",
        "        #backpropagate\n",
        "        loss.backward()\n",
        "        #optimize\n",
        "        optimizer.step()\n",
        "        #print the losses\n",
        "        pred = y_pred.argmax(dim=1, keepdim=True)  # get the index of the max log-probability\n",
        "        correct += pred.eq(target.view_as(pred)).sum().item()\n",
        "        processed += len(data)\n",
        "\n",
        "        pbar.set_description(desc= f'Loss={loss.item()} Batch_id={batch_idx} Accuracy={100*correct/processed:0.2f}')\n",
        "        \n",
        "        #collect the loss and accuracy data\n",
        "        loss_array.append(loss)\n",
        "        acc_array.append(100.0*correct/processed)\n",
        "\n",
        "\n",
        "def test(model,\n",
        "          test_loader,\n",
        "          loss_function,\n",
        "          device,\n",
        "          loss_array,\n",
        "          acc_array):\n",
        "  \n",
        "    model.eval()\n",
        "    test_loss = 0\n",
        "    correct = 0\n",
        "\n",
        "    with torch.no_grad():\n",
        "        for data, target in test_loader:\n",
        "            data, target = data.to(device), target.to(device)\n",
        "            output = model(data)\n",
        "            test_loss += loss_function(output, target, reduction='sum').item()  # sum up batch loss\n",
        "            pred = output.argmax(dim=1, keepdim=True)  # get the index of the max log-probability\n",
        "            correct += pred.eq(target.view_as(pred)).sum().item()\n",
        "\n",
        "    test_loss /= len(test_loader.dataset)\n",
        "    loss_array.append(test_loss)\n",
        "\n",
        "    print('\\nTest set: Average loss: {:.4f}, Accuracy: {}/{} ({:.0f}%)\\n'.format(\n",
        "                                                                                test_loss, correct, len(test_loader.dataset),\n",
        "                                                                                100. * correct / len(test_loader.dataset)))\n",
        "    \n",
        "    acc_array.append(100. * correct / len(test_loader.dataset))\n",
        "\n",
        "    return test_loss #returend value will be better"
      ],
      "execution_count": 0,
      "outputs": []
    },
    {
      "cell_type": "markdown",
      "metadata": {
        "id": "BTJsFtfQ05h1",
        "colab_type": "text"
      },
      "source": [
        "### Let's Train and test our model"
      ]
    },
    {
      "cell_type": "markdown",
      "metadata": {
        "id": "QbOdVw2D1KsF",
        "colab_type": "text"
      },
      "source": [
        "#### Deifine the \n",
        "  - loss functin\n",
        "  - optimizer"
      ]
    },
    {
      "cell_type": "code",
      "metadata": {
        "id": "83sWC9-M1Nq_",
        "colab_type": "code",
        "colab": {}
      },
      "source": [
        "model =  Net().to(device)\n",
        "\n",
        "loss_function = F.nll_loss\n",
        "#loss_function = nn.CrossEntropyLoss()\n",
        "#optimizer = torch.optim.Adam(model.parameters(), lr=0.001)\n",
        "optimizer = optim.SGD(model.parameters(), lr=0.1, momentum=0.9)\n",
        "scheduler = StepLR(optimizer, step_size=6, gamma=0.1)"
      ],
      "execution_count": 0,
      "outputs": []
    },
    {
      "cell_type": "code",
      "metadata": {
        "id": "_cNZ5h_p0r9y",
        "colab_type": "code",
        "colab": {
          "base_uri": "https://localhost:8080/",
          "height": 1000
        },
        "outputId": "38f6f5b2-29f3-4331-e858-1a5f0b3751fd"
      },
      "source": [
        "train_losses = []\n",
        "test_losses = []\n",
        "train_acc = []\n",
        "test_acc = []\n",
        "\n",
        "EPOCHS = 20\n",
        "\n",
        "for epoch in range(EPOCHS):\n",
        "    train(model, train_loader, optimizer, loss_function, device, epoch, train_losses, train_acc)\n",
        "    test(model, test_loader, loss_function, device, test_losses, test_acc)\n",
        "    scheduler.step()"
      ],
      "execution_count": 55,
      "outputs": [
        {
          "output_type": "stream",
          "text": [
            "\r  0%|          | 0/469 [00:00<?, ?it/s]"
          ],
          "name": "stderr"
        },
        {
          "output_type": "stream",
          "text": [
            "Started Epoch 1....\n",
            "\n"
          ],
          "name": "stdout"
        },
        {
          "output_type": "stream",
          "text": [
            "Loss=0.3094218671321869 Batch_id=468 Accuracy=86.76: 100%|██████████| 469/469 [00:15<00:00, 30.69it/s]\n",
            "  0%|          | 0/469 [00:00<?, ?it/s]"
          ],
          "name": "stderr"
        },
        {
          "output_type": "stream",
          "text": [
            "\n",
            "Test set: Average loss: 0.2394, Accuracy: 9245/10000 (92%)\n",
            "\n",
            "Started Epoch 2....\n",
            "\n"
          ],
          "name": "stdout"
        },
        {
          "output_type": "stream",
          "text": [
            "Loss=0.20358885824680328 Batch_id=468 Accuracy=94.27: 100%|██████████| 469/469 [00:15<00:00, 30.32it/s]\n",
            "  0%|          | 0/469 [00:00<?, ?it/s]"
          ],
          "name": "stderr"
        },
        {
          "output_type": "stream",
          "text": [
            "\n",
            "Test set: Average loss: 0.1864, Accuracy: 9415/10000 (94%)\n",
            "\n",
            "Started Epoch 3....\n",
            "\n"
          ],
          "name": "stdout"
        },
        {
          "output_type": "stream",
          "text": [
            "Loss=0.11146648973226547 Batch_id=468 Accuracy=95.44: 100%|██████████| 469/469 [00:15<00:00, 30.44it/s]\n",
            "  0%|          | 0/469 [00:00<?, ?it/s]"
          ],
          "name": "stderr"
        },
        {
          "output_type": "stream",
          "text": [
            "\n",
            "Test set: Average loss: 0.0835, Accuracy: 9735/10000 (97%)\n",
            "\n",
            "Started Epoch 4....\n",
            "\n"
          ],
          "name": "stdout"
        },
        {
          "output_type": "stream",
          "text": [
            "Loss=0.15715649724006653 Batch_id=468 Accuracy=95.88: 100%|██████████| 469/469 [00:15<00:00, 30.67it/s]\n",
            "  0%|          | 0/469 [00:00<?, ?it/s]"
          ],
          "name": "stderr"
        },
        {
          "output_type": "stream",
          "text": [
            "\n",
            "Test set: Average loss: 0.0604, Accuracy: 9806/10000 (98%)\n",
            "\n",
            "Started Epoch 5....\n",
            "\n"
          ],
          "name": "stdout"
        },
        {
          "output_type": "stream",
          "text": [
            "Loss=0.05993075296282768 Batch_id=468 Accuracy=96.26: 100%|██████████| 469/469 [00:15<00:00, 30.59it/s]\n",
            "  0%|          | 0/469 [00:00<?, ?it/s]"
          ],
          "name": "stderr"
        },
        {
          "output_type": "stream",
          "text": [
            "\n",
            "Test set: Average loss: 0.0864, Accuracy: 9752/10000 (98%)\n",
            "\n",
            "Started Epoch 6....\n",
            "\n"
          ],
          "name": "stdout"
        },
        {
          "output_type": "stream",
          "text": [
            "Loss=0.12389472872018814 Batch_id=468 Accuracy=96.54: 100%|██████████| 469/469 [00:15<00:00, 30.26it/s]\n",
            "  0%|          | 0/469 [00:00<?, ?it/s]"
          ],
          "name": "stderr"
        },
        {
          "output_type": "stream",
          "text": [
            "\n",
            "Test set: Average loss: 0.0598, Accuracy: 9818/10000 (98%)\n",
            "\n",
            "Started Epoch 7....\n",
            "\n"
          ],
          "name": "stdout"
        },
        {
          "output_type": "stream",
          "text": [
            "Loss=0.17788942158222198 Batch_id=468 Accuracy=97.01: 100%|██████████| 469/469 [00:15<00:00, 30.53it/s]\n",
            "  0%|          | 0/469 [00:00<?, ?it/s]"
          ],
          "name": "stderr"
        },
        {
          "output_type": "stream",
          "text": [
            "\n",
            "Test set: Average loss: 0.0573, Accuracy: 9831/10000 (98%)\n",
            "\n",
            "Started Epoch 8....\n",
            "\n"
          ],
          "name": "stdout"
        },
        {
          "output_type": "stream",
          "text": [
            "Loss=0.06034507974982262 Batch_id=468 Accuracy=97.19: 100%|██████████| 469/469 [00:15<00:00, 30.09it/s]\n",
            "  0%|          | 0/469 [00:00<?, ?it/s]"
          ],
          "name": "stderr"
        },
        {
          "output_type": "stream",
          "text": [
            "\n",
            "Test set: Average loss: 0.0507, Accuracy: 9846/10000 (98%)\n",
            "\n",
            "Started Epoch 9....\n",
            "\n"
          ],
          "name": "stdout"
        },
        {
          "output_type": "stream",
          "text": [
            "Loss=0.0340648777782917 Batch_id=468 Accuracy=97.24: 100%|██████████| 469/469 [00:15<00:00, 30.22it/s]\n",
            "  0%|          | 0/469 [00:00<?, ?it/s]"
          ],
          "name": "stderr"
        },
        {
          "output_type": "stream",
          "text": [
            "\n",
            "Test set: Average loss: 0.0502, Accuracy: 9859/10000 (99%)\n",
            "\n",
            "Started Epoch 10....\n",
            "\n"
          ],
          "name": "stdout"
        },
        {
          "output_type": "stream",
          "text": [
            "Loss=0.12482608109712601 Batch_id=468 Accuracy=97.29: 100%|██████████| 469/469 [00:15<00:00, 29.78it/s]\n",
            "  0%|          | 0/469 [00:00<?, ?it/s]"
          ],
          "name": "stderr"
        },
        {
          "output_type": "stream",
          "text": [
            "\n",
            "Test set: Average loss: 0.0554, Accuracy: 9838/10000 (98%)\n",
            "\n",
            "Started Epoch 11....\n",
            "\n"
          ],
          "name": "stdout"
        },
        {
          "output_type": "stream",
          "text": [
            "Loss=0.08074638992547989 Batch_id=468 Accuracy=97.40: 100%|██████████| 469/469 [00:15<00:00, 30.24it/s]\n",
            "  0%|          | 0/469 [00:00<?, ?it/s]"
          ],
          "name": "stderr"
        },
        {
          "output_type": "stream",
          "text": [
            "\n",
            "Test set: Average loss: 0.0534, Accuracy: 9840/10000 (98%)\n",
            "\n",
            "Started Epoch 12....\n",
            "\n"
          ],
          "name": "stdout"
        },
        {
          "output_type": "stream",
          "text": [
            "Loss=0.036551583558321 Batch_id=468 Accuracy=97.40: 100%|██████████| 469/469 [00:15<00:00, 30.11it/s]\n",
            "  0%|          | 0/469 [00:00<?, ?it/s]"
          ],
          "name": "stderr"
        },
        {
          "output_type": "stream",
          "text": [
            "\n",
            "Test set: Average loss: 0.0531, Accuracy: 9846/10000 (98%)\n",
            "\n",
            "Started Epoch 13....\n",
            "\n"
          ],
          "name": "stdout"
        },
        {
          "output_type": "stream",
          "text": [
            "Loss=0.0582340843975544 Batch_id=468 Accuracy=97.38: 100%|██████████| 469/469 [00:15<00:00, 29.47it/s]\n",
            "  0%|          | 0/469 [00:00<?, ?it/s]"
          ],
          "name": "stderr"
        },
        {
          "output_type": "stream",
          "text": [
            "\n",
            "Test set: Average loss: 0.0539, Accuracy: 9842/10000 (98%)\n",
            "\n",
            "Started Epoch 14....\n",
            "\n"
          ],
          "name": "stdout"
        },
        {
          "output_type": "stream",
          "text": [
            "Loss=0.08491132408380508 Batch_id=468 Accuracy=97.44: 100%|██████████| 469/469 [00:15<00:00, 30.13it/s]\n",
            "  0%|          | 0/469 [00:00<?, ?it/s]"
          ],
          "name": "stderr"
        },
        {
          "output_type": "stream",
          "text": [
            "\n",
            "Test set: Average loss: 0.0505, Accuracy: 9849/10000 (98%)\n",
            "\n",
            "Started Epoch 15....\n",
            "\n"
          ],
          "name": "stdout"
        },
        {
          "output_type": "stream",
          "text": [
            "Loss=0.010357171297073364 Batch_id=468 Accuracy=97.48: 100%|██████████| 469/469 [00:15<00:00, 29.99it/s]\n",
            "  0%|          | 0/469 [00:00<?, ?it/s]"
          ],
          "name": "stderr"
        },
        {
          "output_type": "stream",
          "text": [
            "\n",
            "Test set: Average loss: 0.0532, Accuracy: 9841/10000 (98%)\n",
            "\n",
            "Started Epoch 16....\n",
            "\n"
          ],
          "name": "stdout"
        },
        {
          "output_type": "stream",
          "text": [
            "Loss=0.09368786215782166 Batch_id=468 Accuracy=97.47: 100%|██████████| 469/469 [00:15<00:00, 30.00it/s]\n",
            "  0%|          | 0/469 [00:00<?, ?it/s]"
          ],
          "name": "stderr"
        },
        {
          "output_type": "stream",
          "text": [
            "\n",
            "Test set: Average loss: 0.0492, Accuracy: 9851/10000 (99%)\n",
            "\n",
            "Started Epoch 17....\n",
            "\n"
          ],
          "name": "stdout"
        },
        {
          "output_type": "stream",
          "text": [
            "Loss=0.0378827266395092 Batch_id=468 Accuracy=97.41: 100%|██████████| 469/469 [00:15<00:00, 29.41it/s]\n",
            "  0%|          | 0/469 [00:00<?, ?it/s]"
          ],
          "name": "stderr"
        },
        {
          "output_type": "stream",
          "text": [
            "\n",
            "Test set: Average loss: 0.0541, Accuracy: 9839/10000 (98%)\n",
            "\n",
            "Started Epoch 18....\n",
            "\n"
          ],
          "name": "stdout"
        },
        {
          "output_type": "stream",
          "text": [
            "Loss=0.11560219526290894 Batch_id=468 Accuracy=97.40: 100%|██████████| 469/469 [00:15<00:00, 29.52it/s]\n",
            "  0%|          | 0/469 [00:00<?, ?it/s]"
          ],
          "name": "stderr"
        },
        {
          "output_type": "stream",
          "text": [
            "\n",
            "Test set: Average loss: 0.0522, Accuracy: 9835/10000 (98%)\n",
            "\n",
            "Started Epoch 19....\n",
            "\n"
          ],
          "name": "stdout"
        },
        {
          "output_type": "stream",
          "text": [
            "Loss=0.05161865055561066 Batch_id=468 Accuracy=97.43: 100%|██████████| 469/469 [00:15<00:00, 29.60it/s]\n",
            "  0%|          | 0/469 [00:00<?, ?it/s]"
          ],
          "name": "stderr"
        },
        {
          "output_type": "stream",
          "text": [
            "\n",
            "Test set: Average loss: 0.0555, Accuracy: 9833/10000 (98%)\n",
            "\n",
            "Started Epoch 20....\n",
            "\n"
          ],
          "name": "stdout"
        },
        {
          "output_type": "stream",
          "text": [
            "Loss=0.024943018332123756 Batch_id=468 Accuracy=97.39: 100%|██████████| 469/469 [00:15<00:00, 29.77it/s]\n"
          ],
          "name": "stderr"
        },
        {
          "output_type": "stream",
          "text": [
            "\n",
            "Test set: Average loss: 0.0535, Accuracy: 9834/10000 (98%)\n",
            "\n"
          ],
          "name": "stdout"
        }
      ]
    },
    {
      "cell_type": "code",
      "metadata": {
        "id": "xMbWr0dONd8d",
        "colab_type": "code",
        "colab": {
          "base_uri": "https://localhost:8080/",
          "height": 624
        },
        "outputId": "a71e5102-2b6d-4fa2-f575-8c1d5ee01972"
      },
      "source": [
        "import matplotlib.pyplot as plt\n",
        "\n",
        "\n",
        "fig, axs = plt.subplots(2,2,figsize=(15,10))\n",
        "axs[0, 0].plot(train_losses)\n",
        "axs[0, 0].set_title(\"Training Loss\")\n",
        "axs[1, 0].plot(train_acc)\n",
        "axs[1, 0].set_title(\"Training Accuracy\")\n",
        "axs[0, 1].plot(test_losses)\n",
        "axs[0, 1].set_title(\"Test Loss\")\n",
        "axs[1, 1].plot(test_acc)\n",
        "axs[1, 1].set_title(\"Test Accuracy\")"
      ],
      "execution_count": 28,
      "outputs": [
        {
          "output_type": "execute_result",
          "data": {
            "text/plain": [
              "Text(0.5, 1.0, 'Test Accuracy')"
            ]
          },
          "metadata": {
            "tags": []
          },
          "execution_count": 28
        },
        {
          "output_type": "display_data",
          "data": {
            "image/png": "[encoded data removed]",
            "text/plain": [
              "<Figure size 1080x720 with 4 Axes>"
            ]
          },
          "metadata": {
            "tags": [],
            "needs_background": "light"
          }
        }
      ]
    },
    {
      "cell_type": "code",
      "metadata": {
        "id": "wVrUw0dP2Gva",
        "colab_type": "code",
        "colab": {}
      },
      "source": [
        "dropout_value = 0.1\n",
        "class Net1(nn.Module):\n",
        "    def __init__(self):\n",
        "        super(Net1, self).__init__()\n",
        "        # Input Block\n",
        "        self.convblock1 = nn.Sequential(\n",
        "            nn.Conv2d(in_channels=1, out_channels=13, kernel_size=(3, 3), padding=0, bias=False),\n",
        "            nn.ReLU(),\n",
        "            nn.Dropout(dropout_value),\n",
        "            nn.BatchNorm2d(13)\n",
        "            \n",
        "        ) # output_size = 26\n",
        "\n",
        "        # CONVOLUTION BLOCK 1\n",
        "        self.convblock2 = nn.Sequential(\n",
        "            nn.Conv2d(in_channels=13, out_channels=13, kernel_size=(3, 3), padding=0, bias=False),\n",
        "            nn.ReLU(),\n",
        "            nn.Dropout(dropout_value),\n",
        "            nn.BatchNorm2d(13)\n",
        "        ) # output_size = 24\n",
        "        self.convblock3 = nn.Sequential(\n",
        "            nn.Conv2d(in_channels=13, out_channels=12, kernel_size=(3, 3), padding=0, bias=False),\n",
        "            nn.ReLU(),\n",
        "            nn.Dropout(dropout_value),\n",
        "            nn.BatchNorm2d(12)\n",
        "        ) # output_size = 22\n",
        "\n",
        "        self.convblock31 = nn.Sequential(\n",
        "            nn.Conv2d(in_channels=12, out_channels=12, kernel_size=(1, 1), padding=0, bias=False),\n",
        "            nn.ReLU(),\n",
        "            nn.Dropout(dropout_value),\n",
        "            nn.BatchNorm2d(12)\n",
        "        ) # output_size = 22\n",
        "\n",
        "        # TRANSITION BLOCK 1\n",
        "        self.pool1 = nn.MaxPool2d(2, 2) # output_size = 11\n",
        "        self.convblock4 = nn.Sequential(\n",
        "            nn.Conv2d(in_channels=12, out_channels=12, kernel_size=(1, 1), padding=0, bias=False),\n",
        "            nn.ReLU(),\n",
        "            nn.Dropout(dropout_value),\n",
        "            nn.BatchNorm2d(12)\n",
        "        ) # output_size = 11\n",
        "\n",
        "        # CONVOLUTION BLOCK 2\n",
        "        self.convblock5 = nn.Sequential(\n",
        "            nn.Conv2d(in_channels=12, out_channels=12, kernel_size=(3, 3), padding=0, bias=False),\n",
        "            nn.ReLU(),\n",
        "            nn.Dropout(dropout_value),\n",
        "            nn.BatchNorm2d(12)\n",
        "        ) # output_size = 9\n",
        "        self.convblock6 = nn.Sequential(\n",
        "            nn.Conv2d(in_channels=12, out_channels=12, kernel_size=(3, 3), padding=0, bias=False),\n",
        "            nn.ReLU(),\n",
        "            nn.Dropout(dropout_value),\n",
        "            nn.BatchNorm2d(12)\n",
        "        ) # output_size = 7\n",
        "\n",
        "        self.convblock7 = nn.Sequential(\n",
        "            nn.Conv2d(in_channels=12, out_channels=12, kernel_size=(1, 1), padding=0, bias=False),\n",
        "            nn.ReLU(),\n",
        "            nn.Dropout(dropout_value),\n",
        "            nn.BatchNorm2d(12)\n",
        "        ) # output_size = 7\n",
        "\n",
        "        self.convblock71 = nn.Sequential(\n",
        "            nn.Conv2d(in_channels=12, out_channels=20, kernel_size=(3, 3), padding=0, bias=False),\n",
        "            nn.ReLU(),\n",
        "            nn.Dropout(dropout_value),\n",
        "            nn.BatchNorm2d(20)\n",
        "        ) # output_size = 7\n",
        "\n",
        "        self.convblock72 = nn.Sequential(\n",
        "            nn.Conv2d(in_channels=20, out_channels=48, kernel_size=(1, 1), padding=0, bias=False),\n",
        "            nn.ReLU(),\n",
        "            nn.Dropout(dropout_value),\n",
        "            nn.BatchNorm2d(48)\n",
        "        ) # output_size = 7\n",
        "\n",
        "        # OUTPUT BLOCK\n",
        "        self.gap = nn.Sequential(\n",
        "            nn.AvgPool2d(kernel_size=5),\n",
        "            nn.ReLU(),\n",
        "            nn.BatchNorm2d(48),\n",
        "            nn.Dropout(dropout_value)\n",
        "        ) # output_size = 1\n",
        "\n",
        "        self.convblock8 = nn.Sequential(\n",
        "            nn.Conv2d(in_channels=48, out_channels=10, kernel_size=(1, 1), padding=0, bias=False),\n",
        "            # nn.BatchNorm2d(10), NEVER\n",
        "            # nn.ReLU() NEVER!\n",
        "        ) # output_size = 1\n",
        "\n",
        "\n",
        "    def forward(self, x):\n",
        "        x = self.convblock1(x)# 26x26\n",
        "        x = self.convblock2(x)# 24x24\n",
        "        x = self.convblock3(x)# 22x22\n",
        "        x = self.convblock31(x)# 22x22\n",
        "        x = self.pool1(x) # 11x11\n",
        "\n",
        "        \n",
        "        x = self.convblock4(x) # 11x11\n",
        "        x = self.convblock5(x) # 9x9\n",
        "        x = self.convblock6(x) # 7x7\n",
        "        x = self.convblock7(x) # 7x7\n",
        "        x = self.convblock71(x) # 5x5\n",
        "        x = self.convblock72(x) # 5x5\n",
        "        x = self.gap(x)\n",
        "        x = self.convblock8(x) #1x1\n",
        "        x = x.view(-1, 10)\n",
        "        return F.log_softmax(x, dim=-1)"
      ],
      "execution_count": 0,
      "outputs": []
    },
    {
      "cell_type": "code",
      "metadata": {
        "id": "5x68-8lkL9LI",
        "colab_type": "code",
        "colab": {}
      },
      "source": [
        "model1 =  Net1().to(device)\n",
        "\n",
        "\n",
        "loss_function = F.nll_loss\n",
        "#loss_function = nn.CrossEntropyLoss()\n",
        "#optimizer = torch.optim.Adam(model.parameters(), lr=0.001)\n",
        "optimizer = optim.SGD(model1.parameters(), lr=0.01, momentum=0.9)\n",
        "scheduler = StepLR(optimizer, step_size=6, gamma=0.1)\n",
        "\n",
        "EPOCHS = 20"
      ],
      "execution_count": 0,
      "outputs": []
    },
    {
      "cell_type": "code",
      "metadata": {
        "id": "k1rJEr-gMKpT",
        "colab_type": "code",
        "colab": {
          "base_uri": "https://localhost:8080/",
          "height": 1000
        },
        "outputId": "ddd6ed5a-b8c4-427b-a850-ef930bc5a31c"
      },
      "source": [
        "train_losses = []\n",
        "test_losses = []\n",
        "train_acc = []\n",
        "test_acc = []\n",
        "\n",
        "\n",
        "for epoch in range(EPOCHS):\n",
        "    train(model1, train_loader, optimizer, loss_function, device, epoch, train_losses, train_acc)\n",
        "    test(model1, test_loader, loss_function, device, test_losses, test_acc)\n",
        "    scheduler.step()"
      ],
      "execution_count": 31,
      "outputs": [
        {
          "output_type": "stream",
          "text": [
            "\r  0%|          | 0/469 [00:00<?, ?it/s]"
          ],
          "name": "stderr"
        },
        {
          "output_type": "stream",
          "text": [
            "Started Epoch 1....\n",
            "\n"
          ],
          "name": "stdout"
        },
        {
          "output_type": "stream",
          "text": [
            "Loss=0.08397295325994492 Batch_id=468 Accuracy=86.99: 100%|██████████| 469/469 [00:15<00:00, 29.76it/s]\n",
            "  0%|          | 0/469 [00:00<?, ?it/s]"
          ],
          "name": "stderr"
        },
        {
          "output_type": "stream",
          "text": [
            "\n",
            "Test set: Average loss: 0.1372, Accuracy: 9595/10000 (96%)\n",
            "\n",
            "Started Epoch 2....\n",
            "\n"
          ],
          "name": "stdout"
        },
        {
          "output_type": "stream",
          "text": [
            "Loss=0.1792403608560562 Batch_id=468 Accuracy=96.07: 100%|██████████| 469/469 [00:15<00:00, 30.07it/s]\n",
            "  0%|          | 0/469 [00:00<?, ?it/s]"
          ],
          "name": "stderr"
        },
        {
          "output_type": "stream",
          "text": [
            "\n",
            "Test set: Average loss: 0.0819, Accuracy: 9741/10000 (97%)\n",
            "\n",
            "Started Epoch 3....\n",
            "\n"
          ],
          "name": "stdout"
        },
        {
          "output_type": "stream",
          "text": [
            "Loss=0.07301993668079376 Batch_id=468 Accuracy=96.80: 100%|██████████| 469/469 [00:15<00:00, 29.86it/s]\n",
            "  0%|          | 0/469 [00:00<?, ?it/s]"
          ],
          "name": "stderr"
        },
        {
          "output_type": "stream",
          "text": [
            "\n",
            "Test set: Average loss: 0.1045, Accuracy: 9673/10000 (97%)\n",
            "\n",
            "Started Epoch 4....\n",
            "\n"
          ],
          "name": "stdout"
        },
        {
          "output_type": "stream",
          "text": [
            "Loss=0.11459225416183472 Batch_id=468 Accuracy=97.26: 100%|██████████| 469/469 [00:15<00:00, 29.82it/s]\n",
            "  0%|          | 0/469 [00:00<?, ?it/s]"
          ],
          "name": "stderr"
        },
        {
          "output_type": "stream",
          "text": [
            "\n",
            "Test set: Average loss: 0.0664, Accuracy: 9796/10000 (98%)\n",
            "\n",
            "Started Epoch 5....\n",
            "\n"
          ],
          "name": "stdout"
        },
        {
          "output_type": "stream",
          "text": [
            "Loss=0.10431604832410812 Batch_id=468 Accuracy=97.50: 100%|██████████| 469/469 [00:15<00:00, 29.87it/s]\n",
            "  0%|          | 0/469 [00:00<?, ?it/s]"
          ],
          "name": "stderr"
        },
        {
          "output_type": "stream",
          "text": [
            "\n",
            "Test set: Average loss: 0.0559, Accuracy: 9837/10000 (98%)\n",
            "\n",
            "Started Epoch 6....\n",
            "\n"
          ],
          "name": "stdout"
        },
        {
          "output_type": "stream",
          "text": [
            "Loss=0.07727935165166855 Batch_id=468 Accuracy=97.71: 100%|██████████| 469/469 [00:15<00:00, 29.75it/s]\n",
            "  0%|          | 0/469 [00:00<?, ?it/s]"
          ],
          "name": "stderr"
        },
        {
          "output_type": "stream",
          "text": [
            "\n",
            "Test set: Average loss: 0.0515, Accuracy: 9843/10000 (98%)\n",
            "\n",
            "Started Epoch 7....\n",
            "\n"
          ],
          "name": "stdout"
        },
        {
          "output_type": "stream",
          "text": [
            "Loss=0.014387759380042553 Batch_id=468 Accuracy=97.92: 100%|██████████| 469/469 [00:15<00:00, 29.70it/s]\n",
            "  0%|          | 0/469 [00:00<?, ?it/s]"
          ],
          "name": "stderr"
        },
        {
          "output_type": "stream",
          "text": [
            "\n",
            "Test set: Average loss: 0.0449, Accuracy: 9867/10000 (99%)\n",
            "\n",
            "Started Epoch 8....\n",
            "\n"
          ],
          "name": "stdout"
        },
        {
          "output_type": "stream",
          "text": [
            "Loss=0.04833288863301277 Batch_id=468 Accuracy=98.03: 100%|██████████| 469/469 [00:15<00:00, 29.70it/s]\n",
            "  0%|          | 0/469 [00:00<?, ?it/s]"
          ],
          "name": "stderr"
        },
        {
          "output_type": "stream",
          "text": [
            "\n",
            "Test set: Average loss: 0.0390, Accuracy: 9887/10000 (99%)\n",
            "\n",
            "Started Epoch 9....\n",
            "\n"
          ],
          "name": "stdout"
        },
        {
          "output_type": "stream",
          "text": [
            "Loss=0.12645785510540009 Batch_id=468 Accuracy=98.16: 100%|██████████| 469/469 [00:15<00:00, 29.74it/s]\n",
            "  0%|          | 0/469 [00:00<?, ?it/s]"
          ],
          "name": "stderr"
        },
        {
          "output_type": "stream",
          "text": [
            "\n",
            "Test set: Average loss: 0.0396, Accuracy: 9885/10000 (99%)\n",
            "\n",
            "Started Epoch 10....\n",
            "\n"
          ],
          "name": "stdout"
        },
        {
          "output_type": "stream",
          "text": [
            "Loss=0.14471356570720673 Batch_id=468 Accuracy=98.14: 100%|██████████| 469/469 [00:15<00:00, 29.58it/s]\n",
            "  0%|          | 0/469 [00:00<?, ?it/s]"
          ],
          "name": "stderr"
        },
        {
          "output_type": "stream",
          "text": [
            "\n",
            "Test set: Average loss: 0.0407, Accuracy: 9880/10000 (99%)\n",
            "\n",
            "Started Epoch 11....\n",
            "\n"
          ],
          "name": "stdout"
        },
        {
          "output_type": "stream",
          "text": [
            "Loss=0.09571459144353867 Batch_id=468 Accuracy=98.15: 100%|██████████| 469/469 [00:15<00:00, 29.52it/s]\n",
            "  0%|          | 0/469 [00:00<?, ?it/s]"
          ],
          "name": "stderr"
        },
        {
          "output_type": "stream",
          "text": [
            "\n",
            "Test set: Average loss: 0.0406, Accuracy: 9877/10000 (99%)\n",
            "\n",
            "Started Epoch 12....\n",
            "\n"
          ],
          "name": "stdout"
        },
        {
          "output_type": "stream",
          "text": [
            "Loss=0.15348726511001587 Batch_id=468 Accuracy=98.15: 100%|██████████| 469/469 [00:15<00:00, 29.64it/s]\n",
            "  0%|          | 0/469 [00:00<?, ?it/s]"
          ],
          "name": "stderr"
        },
        {
          "output_type": "stream",
          "text": [
            "\n",
            "Test set: Average loss: 0.0398, Accuracy: 9882/10000 (99%)\n",
            "\n",
            "Started Epoch 13....\n",
            "\n"
          ],
          "name": "stdout"
        },
        {
          "output_type": "stream",
          "text": [
            "Loss=0.10939683765172958 Batch_id=468 Accuracy=98.17: 100%|██████████| 469/469 [00:15<00:00, 29.60it/s]\n",
            "  0%|          | 0/469 [00:00<?, ?it/s]"
          ],
          "name": "stderr"
        },
        {
          "output_type": "stream",
          "text": [
            "\n",
            "Test set: Average loss: 0.0417, Accuracy: 9877/10000 (99%)\n",
            "\n",
            "Started Epoch 14....\n",
            "\n"
          ],
          "name": "stdout"
        },
        {
          "output_type": "stream",
          "text": [
            "Loss=0.08986684679985046 Batch_id=468 Accuracy=98.16: 100%|██████████| 469/469 [00:15<00:00, 29.97it/s]\n",
            "  0%|          | 0/469 [00:00<?, ?it/s]"
          ],
          "name": "stderr"
        },
        {
          "output_type": "stream",
          "text": [
            "\n",
            "Test set: Average loss: 0.0404, Accuracy: 9880/10000 (99%)\n",
            "\n",
            "Started Epoch 15....\n",
            "\n"
          ],
          "name": "stdout"
        },
        {
          "output_type": "stream",
          "text": [
            "Loss=0.02314889430999756 Batch_id=468 Accuracy=98.15: 100%|██████████| 469/469 [00:15<00:00, 29.73it/s]\n",
            "  0%|          | 0/469 [00:00<?, ?it/s]"
          ],
          "name": "stderr"
        },
        {
          "output_type": "stream",
          "text": [
            "\n",
            "Test set: Average loss: 0.0405, Accuracy: 9877/10000 (99%)\n",
            "\n",
            "Started Epoch 16....\n",
            "\n"
          ],
          "name": "stdout"
        },
        {
          "output_type": "stream",
          "text": [
            "Loss=0.01733306236565113 Batch_id=468 Accuracy=98.21: 100%|██████████| 469/469 [00:15<00:00, 29.43it/s]\n",
            "  0%|          | 0/469 [00:00<?, ?it/s]"
          ],
          "name": "stderr"
        },
        {
          "output_type": "stream",
          "text": [
            "\n",
            "Test set: Average loss: 0.0422, Accuracy: 9876/10000 (99%)\n",
            "\n",
            "Started Epoch 17....\n",
            "\n"
          ],
          "name": "stdout"
        },
        {
          "output_type": "stream",
          "text": [
            "Loss=0.029418865218758583 Batch_id=468 Accuracy=98.22: 100%|██████████| 469/469 [00:15<00:00, 29.36it/s]\n",
            "  0%|          | 0/469 [00:00<?, ?it/s]"
          ],
          "name": "stderr"
        },
        {
          "output_type": "stream",
          "text": [
            "\n",
            "Test set: Average loss: 0.0411, Accuracy: 9876/10000 (99%)\n",
            "\n",
            "Started Epoch 18....\n",
            "\n"
          ],
          "name": "stdout"
        },
        {
          "output_type": "stream",
          "text": [
            "Loss=0.0326065756380558 Batch_id=468 Accuracy=98.31: 100%|██████████| 469/469 [00:15<00:00, 29.64it/s]\n",
            "  0%|          | 0/469 [00:00<?, ?it/s]"
          ],
          "name": "stderr"
        },
        {
          "output_type": "stream",
          "text": [
            "\n",
            "Test set: Average loss: 0.0379, Accuracy: 9888/10000 (99%)\n",
            "\n",
            "Started Epoch 19....\n",
            "\n"
          ],
          "name": "stdout"
        },
        {
          "output_type": "stream",
          "text": [
            "Loss=0.05944370850920677 Batch_id=468 Accuracy=98.20: 100%|██████████| 469/469 [00:15<00:00, 29.79it/s]\n",
            "  0%|          | 0/469 [00:00<?, ?it/s]"
          ],
          "name": "stderr"
        },
        {
          "output_type": "stream",
          "text": [
            "\n",
            "Test set: Average loss: 0.0388, Accuracy: 9884/10000 (99%)\n",
            "\n",
            "Started Epoch 20....\n",
            "\n"
          ],
          "name": "stdout"
        },
        {
          "output_type": "stream",
          "text": [
            "Loss=0.051616549491882324 Batch_id=468 Accuracy=98.23: 100%|██████████| 469/469 [00:15<00:00, 29.66it/s]\n"
          ],
          "name": "stderr"
        },
        {
          "output_type": "stream",
          "text": [
            "\n",
            "Test set: Average loss: 0.0405, Accuracy: 9875/10000 (99%)\n",
            "\n"
          ],
          "name": "stdout"
        }
      ]
    },
    {
      "cell_type": "code",
      "metadata": {
        "id": "6nXK6pRlOEYC",
        "colab_type": "code",
        "colab": {
          "base_uri": "https://localhost:8080/",
          "height": 624
        },
        "outputId": "c5d4422e-86a7-47e6-e2fe-77728ba39e85"
      },
      "source": [
        "fig, axs = plt.subplots(2,2,figsize=(15,10))\n",
        "axs[0, 0].plot(train_losses)\n",
        "axs[0, 0].set_title(\"Training Loss\")\n",
        "axs[1, 0].plot(train_acc)\n",
        "axs[1, 0].set_title(\"Training Accuracy\")\n",
        "axs[0, 1].plot(test_losses)\n",
        "axs[0, 1].set_title(\"Test Loss\")\n",
        "axs[1, 1].plot(test_acc)\n",
        "axs[1, 1].set_title(\"Test Accuracy\")"
      ],
      "execution_count": 32,
      "outputs": [
        {
          "output_type": "execute_result",
          "data": {
            "text/plain": [
              "Text(0.5, 1.0, 'Test Accuracy')"
            ]
          },
          "metadata": {
            "tags": []
          },
          "execution_count": 32
        },
        {
          "output_type": "display_data",
          "data": {
            "image/png": "[encoded data removed]",
            "text/plain": [
              "<Figure size 1080x720 with 4 Axes>"
            ]
          },
          "metadata": {
            "tags": [],
            "needs_background": "light"
          }
        }
      ]
    },
    {
      "cell_type": "code",
      "metadata": {
        "id": "re7bzlRBO6q3",
        "colab_type": "code",
        "colab": {}
      },
      "source": [
        "dropout_value = 0.2\n",
        "\n",
        "OP_CH_CONV_BLK1  = 16\n",
        "OP_CH_CONV_BLK2  = 16\n",
        "OP_CH_CONV_BLK21 = 28\n",
        "OP_CH_CONV_BLK3  = 14\n",
        "OP_CH_CONV_BLK4  = 14\n",
        "OP_CH_CONV_BLK5  = 14\n",
        "OP_CH_CONV_BLK6  = 13\n",
        "OP_CH_CONV_BLK7  = 13\n",
        "OP_CH_CONV_BLK71 = 48\n",
        "OP_CH_CONV_BLK8  = 20\n",
        "OP_NODES = 10\n",
        "\n",
        "\n",
        "class Net(nn.Module):\n",
        "    def __init__(self):\n",
        "        super(Net, self).__init__()\n",
        "        # Input Block\n",
        "        self.convblock1 = nn.Sequential(nn.Conv2d(in_channels=1, out_channels=OP_CH_CONV_BLK1, kernel_size=(3, 3), padding=0, bias=False),\n",
        "                                        nn.ReLU(),\n",
        "                                        nn.Dropout(dropout_value),\n",
        "                                        nn.BatchNorm2d(OP_CH_CONV_BLK1)\n",
        "                                        ) # output_size = 26\n",
        "\n",
        "        # CONVOLUTION BLOCK 1\n",
        "        self.convblock2 = nn.Sequential(nn.Conv2d(in_channels=OP_CH_CONV_BLK1, out_channels=OP_CH_CONV_BLK2, kernel_size=(3, 3), padding=0, bias=False),\n",
        "                                        nn.ReLU(),\n",
        "                                        nn.Dropout(dropout_value),\n",
        "                                        nn.BatchNorm2d(OP_CH_CONV_BLK2)\n",
        "                                        ) # output_size = 24\n",
        "\n",
        "\n",
        "        self.convblock21 = nn.Sequential(\n",
        "                                        nn.Conv2d(in_channels=OP_CH_CONV_BLK2, out_channels=OP_CH_CONV_BLK21, kernel_size=(1, 1), padding=0, bias=False),\n",
        "                                        nn.ReLU(),\n",
        "                                        nn.Dropout(dropout_value),\n",
        "                                        nn.BatchNorm2d(OP_CH_CONV_BLK21)\n",
        "                                        ) # output_size = 22\n",
        "        # TRANSITION BLOCK 1\n",
        "        self.pool1 = nn.MaxPool2d(2, 2) # output_size = 12\n",
        "\n",
        "        self.convblock3 = nn.Sequential(\n",
        "                                        nn.Conv2d(in_channels=OP_CH_CONV_BLK21, out_channels=OP_CH_CONV_BLK3, kernel_size=(3, 3), padding=0, bias=False),\n",
        "                                        nn.ReLU(),\n",
        "                                        nn.Dropout(dropout_value),\n",
        "                                        nn.BatchNorm2d(OP_CH_CONV_BLK3)\n",
        "                                        ) # output_size = 10\n",
        "\n",
        "\n",
        "        self.convblock4 = nn.Sequential(\n",
        "                                        nn.Conv2d(in_channels=OP_CH_CONV_BLK3, out_channels=OP_CH_CONV_BLK4, kernel_size=(1, 1), padding=0, bias=False),\n",
        "                                        nn.ReLU(),\n",
        "                                        nn.Dropout(dropout_value),\n",
        "                                        nn.BatchNorm2d(OP_CH_CONV_BLK4)\n",
        "                                        ) # output_size = 8\n",
        "\n",
        "\n",
        "        # CONVOLUTION BLOCK 2\n",
        "        self.convblock5 = nn.Sequential(\n",
        "                                        nn.Conv2d(in_channels=OP_CH_CONV_BLK4, out_channels=OP_CH_CONV_BLK5, kernel_size=(3, 3), padding=0, bias=False),\n",
        "                                        nn.ReLU(),\n",
        "                                        nn.Dropout(dropout_value),\n",
        "                                        nn.BatchNorm2d(OP_CH_CONV_BLK5)\n",
        "                                        ) # output_size = 6\n",
        "\n",
        "        self.convblock6 = nn.Sequential(\n",
        "                                        nn.Conv2d(in_channels=OP_CH_CONV_BLK5, out_channels=OP_CH_CONV_BLK6, kernel_size=(3, 3), padding=0, bias=False),\n",
        "                                        nn.ReLU(),\n",
        "                                        nn.Dropout(dropout_value),\n",
        "                                        nn.BatchNorm2d(OP_CH_CONV_BLK6)\n",
        "                                        ) # output_size = 4\n",
        "\n",
        "        self.convblock7 = nn.Sequential(\n",
        "                                          nn.Conv2d(in_channels=OP_CH_CONV_BLK6, out_channels=OP_CH_CONV_BLK7, kernel_size=(3, 3), padding=0, bias=False),\n",
        "                                          nn.ReLU(),\n",
        "                                          nn.Dropout(dropout_value),\n",
        "                                          nn.BatchNorm2d(OP_CH_CONV_BLK7)\n",
        "                                          ) # output_size = 2\n",
        "\n",
        "        self.convblock71 = nn.Sequential(\n",
        "                                          nn.Conv2d(in_channels=OP_CH_CONV_BLK7, out_channels=OP_CH_CONV_BLK71, kernel_size=(1, 1), padding=0, bias=False),\n",
        "                                          nn.ReLU(),\n",
        "                                          nn.Dropout(dropout_value),\n",
        "                                          nn.BatchNorm2d(OP_CH_CONV_BLK71)\n",
        "                                          ) # output_size = 2\n",
        "        # OUTPUT BLOCK\n",
        "        self.gap = nn.Sequential(\n",
        "                                  nn.AvgPool2d(kernel_size=4),\n",
        "                                  nn.ReLU(),\n",
        "                                  nn.BatchNorm2d(OP_CH_CONV_BLK71),\n",
        "                                  nn.Dropout(dropout_value)\n",
        "                                  ) # output_size = 1\n",
        "\n",
        "        self.convblock8 = nn.Sequential(\n",
        "                                          nn.Conv2d(in_channels=OP_CH_CONV_BLK71, out_channels=OP_CH_CONV_BLK8, kernel_size=(1, 1), padding=0, bias=False),\n",
        "                                          nn.ReLU(),\n",
        "                                          nn.Dropout(dropout_value),\n",
        "                                          nn.BatchNorm2d(OP_CH_CONV_BLK8)\n",
        "                                          ) # output_size = 2\n",
        "\n",
        "        self.convblock81 = nn.Sequential(\n",
        "                                        nn.Conv2d(in_channels=OP_CH_CONV_BLK8, out_channels=OP_NODES, kernel_size=(1, 1), padding=0, bias=False),\n",
        "                                        # nn.BatchNorm2d(10), NEVER\n",
        "                                        # nn.ReLU() NEVER!\n",
        "                                        ) # output_size = 1\n",
        "\n",
        "\n",
        "    def forward(self, x):\n",
        "        x = self.convblock1(x)# 26x26\n",
        "        x = self.convblock2(x)# 24x24\n",
        "        x = self.convblock21(x)# 24x24\n",
        "        x = self.pool1(x) # 12x12\n",
        "        x = self.convblock3(x)# 10x10\n",
        "        x = self.convblock4(x) # 8x8\n",
        "        x = self.convblock5(x) # 6x6\n",
        "        x = self.convblock6(x) # 4x4\n",
        "        x = self.convblock7(x) # 2x2\n",
        "        x = self.convblock71(x) # 2x2\n",
        "        x = self.gap(x)\n",
        "        x = self.convblock8(x) #1x1\n",
        "        x = self.convblock81(x) #1x1\n",
        "        x = x.view(-1, OP_NODES)\n",
        "        return F.log_softmax(x, dim=-1)"
      ],
      "execution_count": 0,
      "outputs": []
    },
    {
      "cell_type": "code",
      "metadata": {
        "id": "U5dh-4IsRRlZ",
        "colab_type": "code",
        "colab": {
          "base_uri": "https://localhost:8080/",
          "height": 1000
        },
        "outputId": "19a48679-35d6-40c1-d6c2-cc23767cc8de"
      },
      "source": [
        "model = Net().to(device)\n",
        "summary(model, input_size=(1, 28, 28))\n",
        "\n",
        "loss_function = F.nll_loss\n",
        "#loss_function = nn.CrossEntropyLoss()\n",
        "#optimizer = torch.optim.Adam(model.parameters(), lr=0.001)\n",
        "optimizer = optim.SGD(model.parameters(), lr=0.01, momentum=0.9)\n",
        "scheduler = ReduceLROnPlateau(optimizer, mode='min', factor=0.1, patience=3, verbose=False, threshold=0.0001, threshold_mode='rel', cooldown=2, min_lr=0.0001, eps=1e-08)"
      ],
      "execution_count": 46,
      "outputs": [
        {
          "output_type": "stream",
          "text": [
            "----------------------------------------------------------------\n",
            "        Layer (type)               Output Shape         Param #\n",
            "================================================================\n",
            "            Conv2d-1           [-1, 16, 26, 26]             144\n",
            "              ReLU-2           [-1, 16, 26, 26]               0\n",
            "           Dropout-3           [-1, 16, 26, 26]               0\n",
            "       BatchNorm2d-4           [-1, 16, 26, 26]              32\n",
            "            Conv2d-5           [-1, 16, 24, 24]           2,304\n",
            "              ReLU-6           [-1, 16, 24, 24]               0\n",
            "           Dropout-7           [-1, 16, 24, 24]               0\n",
            "       BatchNorm2d-8           [-1, 16, 24, 24]              32\n",
            "            Conv2d-9           [-1, 28, 24, 24]             448\n",
            "             ReLU-10           [-1, 28, 24, 24]               0\n",
            "          Dropout-11           [-1, 28, 24, 24]               0\n",
            "      BatchNorm2d-12           [-1, 28, 24, 24]              56\n",
            "        MaxPool2d-13           [-1, 28, 12, 12]               0\n",
            "           Conv2d-14           [-1, 14, 10, 10]           3,528\n",
            "             ReLU-15           [-1, 14, 10, 10]               0\n",
            "          Dropout-16           [-1, 14, 10, 10]               0\n",
            "      BatchNorm2d-17           [-1, 14, 10, 10]              28\n",
            "           Conv2d-18           [-1, 14, 10, 10]             196\n",
            "             ReLU-19           [-1, 14, 10, 10]               0\n",
            "          Dropout-20           [-1, 14, 10, 10]               0\n",
            "      BatchNorm2d-21           [-1, 14, 10, 10]              28\n",
            "           Conv2d-22             [-1, 14, 8, 8]           1,764\n",
            "             ReLU-23             [-1, 14, 8, 8]               0\n",
            "          Dropout-24             [-1, 14, 8, 8]               0\n",
            "      BatchNorm2d-25             [-1, 14, 8, 8]              28\n",
            "           Conv2d-26             [-1, 13, 6, 6]           1,638\n",
            "             ReLU-27             [-1, 13, 6, 6]               0\n",
            "          Dropout-28             [-1, 13, 6, 6]               0\n",
            "      BatchNorm2d-29             [-1, 13, 6, 6]              26\n",
            "           Conv2d-30             [-1, 13, 4, 4]           1,521\n",
            "             ReLU-31             [-1, 13, 4, 4]               0\n",
            "          Dropout-32             [-1, 13, 4, 4]               0\n",
            "      BatchNorm2d-33             [-1, 13, 4, 4]              26\n",
            "           Conv2d-34             [-1, 48, 4, 4]             624\n",
            "             ReLU-35             [-1, 48, 4, 4]               0\n",
            "          Dropout-36             [-1, 48, 4, 4]               0\n",
            "      BatchNorm2d-37             [-1, 48, 4, 4]              96\n",
            "        AvgPool2d-38             [-1, 48, 1, 1]               0\n",
            "             ReLU-39             [-1, 48, 1, 1]               0\n",
            "      BatchNorm2d-40             [-1, 48, 1, 1]              96\n",
            "           Conv2d-41             [-1, 20, 1, 1]             960\n",
            "             ReLU-42             [-1, 20, 1, 1]               0\n",
            "          Dropout-43             [-1, 20, 1, 1]               0\n",
            "      BatchNorm2d-44             [-1, 20, 1, 1]              40\n",
            "           Conv2d-45             [-1, 10, 1, 1]             200\n",
            "================================================================\n",
            "Total params: 13,815\n",
            "Trainable params: 13,815\n",
            "Non-trainable params: 0\n",
            "----------------------------------------------------------------\n",
            "Input size (MB): 0.00\n",
            "Forward/backward pass size (MB): 1.29\n",
            "Params size (MB): 0.05\n",
            "Estimated Total Size (MB): 1.35\n",
            "----------------------------------------------------------------\n"
          ],
          "name": "stdout"
        }
      ]
    },
    {
      "cell_type": "code",
      "metadata": {
        "id": "v24bRMokRf5Z",
        "colab_type": "code",
        "colab": {
          "base_uri": "https://localhost:8080/",
          "height": 1000
        },
        "outputId": "18759777-085a-48f8-932f-b20553d1b23e"
      },
      "source": [
        "EPOCHS = 20\n",
        "\n",
        "train_losses = []\n",
        "test_losses = []\n",
        "train_acc = []\n",
        "test_acc = []\n",
        "\n",
        "\n",
        "for epoch in range(EPOCHS):\n",
        "    train(model, train_loader, optimizer, loss_function, device, epoch, train_losses, train_acc)\n",
        "    val_loss = test(model, test_loader, loss_function, device, test_losses, test_acc)\n",
        "    scheduler.step(val_loss)\n",
        "    print(\"learning rate: \", scheduler.state_dict)"
      ],
      "execution_count": 48,
      "outputs": [
        {
          "output_type": "stream",
          "text": [
            "\r  0%|          | 0/469 [00:00<?, ?it/s]"
          ],
          "name": "stderr"
        },
        {
          "output_type": "stream",
          "text": [
            "Started Epoch 1....\n",
            "\n"
          ],
          "name": "stdout"
        },
        {
          "output_type": "stream",
          "text": [
            "Loss=0.25159183144569397 Batch_id=468 Accuracy=93.72: 100%|██████████| 469/469 [00:15<00:00, 29.57it/s]\n",
            "  0%|          | 0/469 [00:00<?, ?it/s]"
          ],
          "name": "stderr"
        },
        {
          "output_type": "stream",
          "text": [
            "\n",
            "Test set: Average loss: 0.0908, Accuracy: 9738/10000 (97%)\n",
            "\n",
            "learning rate:  <bound method ReduceLROnPlateau.state_dict of <torch.optim.lr_scheduler.ReduceLROnPlateau object at 0x7f0765784f98>>\n",
            "Started Epoch 2....\n",
            "\n"
          ],
          "name": "stdout"
        },
        {
          "output_type": "stream",
          "text": [
            "Loss=0.3177967071533203 Batch_id=468 Accuracy=95.04: 100%|██████████| 469/469 [00:15<00:00, 29.92it/s]\n",
            "  0%|          | 0/469 [00:00<?, ?it/s]"
          ],
          "name": "stderr"
        },
        {
          "output_type": "stream",
          "text": [
            "\n",
            "Test set: Average loss: 0.0737, Accuracy: 9782/10000 (98%)\n",
            "\n",
            "learning rate:  <bound method ReduceLROnPlateau.state_dict of <torch.optim.lr_scheduler.ReduceLROnPlateau object at 0x7f0765784f98>>\n",
            "Started Epoch 3....\n",
            "\n"
          ],
          "name": "stdout"
        },
        {
          "output_type": "stream",
          "text": [
            "Loss=0.2316851019859314 Batch_id=468 Accuracy=95.75: 100%|██████████| 469/469 [00:15<00:00, 29.67it/s]\n",
            "  0%|          | 0/469 [00:00<?, ?it/s]"
          ],
          "name": "stderr"
        },
        {
          "output_type": "stream",
          "text": [
            "\n",
            "Test set: Average loss: 0.0935, Accuracy: 9738/10000 (97%)\n",
            "\n",
            "learning rate:  <bound method ReduceLROnPlateau.state_dict of <torch.optim.lr_scheduler.ReduceLROnPlateau object at 0x7f0765784f98>>\n",
            "Started Epoch 4....\n",
            "\n"
          ],
          "name": "stdout"
        },
        {
          "output_type": "stream",
          "text": [
            "Loss=0.08861875534057617 Batch_id=468 Accuracy=96.15: 100%|██████████| 469/469 [00:15<00:00, 29.34it/s]\n",
            "  0%|          | 0/469 [00:00<?, ?it/s]"
          ],
          "name": "stderr"
        },
        {
          "output_type": "stream",
          "text": [
            "\n",
            "Test set: Average loss: 0.0599, Accuracy: 9826/10000 (98%)\n",
            "\n",
            "learning rate:  <bound method ReduceLROnPlateau.state_dict of <torch.optim.lr_scheduler.ReduceLROnPlateau object at 0x7f0765784f98>>\n",
            "Started Epoch 5....\n",
            "\n"
          ],
          "name": "stdout"
        },
        {
          "output_type": "stream",
          "text": [
            "Loss=0.10353276133537292 Batch_id=468 Accuracy=96.49: 100%|██████████| 469/469 [00:16<00:00, 28.30it/s]\n",
            "  0%|          | 0/469 [00:00<?, ?it/s]"
          ],
          "name": "stderr"
        },
        {
          "output_type": "stream",
          "text": [
            "\n",
            "Test set: Average loss: 0.0498, Accuracy: 9857/10000 (99%)\n",
            "\n",
            "learning rate:  <bound method ReduceLROnPlateau.state_dict of <torch.optim.lr_scheduler.ReduceLROnPlateau object at 0x7f0765784f98>>\n",
            "Started Epoch 6....\n",
            "\n"
          ],
          "name": "stdout"
        },
        {
          "output_type": "stream",
          "text": [
            "Loss=0.07501441985368729 Batch_id=468 Accuracy=96.67: 100%|██████████| 469/469 [00:16<00:00, 29.22it/s]\n",
            "  0%|          | 0/469 [00:00<?, ?it/s]"
          ],
          "name": "stderr"
        },
        {
          "output_type": "stream",
          "text": [
            "\n",
            "Test set: Average loss: 0.0525, Accuracy: 9847/10000 (98%)\n",
            "\n",
            "learning rate:  <bound method ReduceLROnPlateau.state_dict of <torch.optim.lr_scheduler.ReduceLROnPlateau object at 0x7f0765784f98>>\n",
            "Started Epoch 7....\n",
            "\n"
          ],
          "name": "stdout"
        },
        {
          "output_type": "stream",
          "text": [
            "Loss=0.08724824339151382 Batch_id=468 Accuracy=96.81: 100%|██████████| 469/469 [00:15<00:00, 29.80it/s]\n",
            "  0%|          | 0/469 [00:00<?, ?it/s]"
          ],
          "name": "stderr"
        },
        {
          "output_type": "stream",
          "text": [
            "\n",
            "Test set: Average loss: 0.0474, Accuracy: 9862/10000 (99%)\n",
            "\n",
            "learning rate:  <bound method ReduceLROnPlateau.state_dict of <torch.optim.lr_scheduler.ReduceLROnPlateau object at 0x7f0765784f98>>\n",
            "Started Epoch 8....\n",
            "\n"
          ],
          "name": "stdout"
        },
        {
          "output_type": "stream",
          "text": [
            "Loss=0.12796340882778168 Batch_id=468 Accuracy=96.94: 100%|██████████| 469/469 [00:16<00:00, 29.24it/s]\n",
            "  0%|          | 0/469 [00:00<?, ?it/s]"
          ],
          "name": "stderr"
        },
        {
          "output_type": "stream",
          "text": [
            "\n",
            "Test set: Average loss: 0.0398, Accuracy: 9881/10000 (99%)\n",
            "\n",
            "learning rate:  <bound method ReduceLROnPlateau.state_dict of <torch.optim.lr_scheduler.ReduceLROnPlateau object at 0x7f0765784f98>>\n",
            "Started Epoch 9....\n",
            "\n"
          ],
          "name": "stdout"
        },
        {
          "output_type": "stream",
          "text": [
            "Loss=0.18563587963581085 Batch_id=468 Accuracy=97.04: 100%|██████████| 469/469 [00:15<00:00, 29.34it/s]\n",
            "  0%|          | 0/469 [00:00<?, ?it/s]"
          ],
          "name": "stderr"
        },
        {
          "output_type": "stream",
          "text": [
            "\n",
            "Test set: Average loss: 0.0414, Accuracy: 9876/10000 (99%)\n",
            "\n",
            "learning rate:  <bound method ReduceLROnPlateau.state_dict of <torch.optim.lr_scheduler.ReduceLROnPlateau object at 0x7f0765784f98>>\n",
            "Started Epoch 10....\n",
            "\n"
          ],
          "name": "stdout"
        },
        {
          "output_type": "stream",
          "text": [
            "Loss=0.06231841444969177 Batch_id=468 Accuracy=97.04: 100%|██████████| 469/469 [00:15<00:00, 29.32it/s]\n",
            "  0%|          | 0/469 [00:00<?, ?it/s]"
          ],
          "name": "stderr"
        },
        {
          "output_type": "stream",
          "text": [
            "\n",
            "Test set: Average loss: 0.0451, Accuracy: 9867/10000 (99%)\n",
            "\n",
            "learning rate:  <bound method ReduceLROnPlateau.state_dict of <torch.optim.lr_scheduler.ReduceLROnPlateau object at 0x7f0765784f98>>\n",
            "Started Epoch 11....\n",
            "\n"
          ],
          "name": "stdout"
        },
        {
          "output_type": "stream",
          "text": [
            "Loss=0.11075825244188309 Batch_id=468 Accuracy=97.07: 100%|██████████| 469/469 [00:16<00:00, 29.29it/s]\n",
            "  0%|          | 0/469 [00:00<?, ?it/s]"
          ],
          "name": "stderr"
        },
        {
          "output_type": "stream",
          "text": [
            "\n",
            "Test set: Average loss: 0.0391, Accuracy: 9889/10000 (99%)\n",
            "\n",
            "learning rate:  <bound method ReduceLROnPlateau.state_dict of <torch.optim.lr_scheduler.ReduceLROnPlateau object at 0x7f0765784f98>>\n",
            "Started Epoch 12....\n",
            "\n"
          ],
          "name": "stdout"
        },
        {
          "output_type": "stream",
          "text": [
            "Loss=0.17516227066516876 Batch_id=468 Accuracy=97.27: 100%|██████████| 469/469 [00:15<00:00, 29.69it/s]\n",
            "  0%|          | 0/469 [00:00<?, ?it/s]"
          ],
          "name": "stderr"
        },
        {
          "output_type": "stream",
          "text": [
            "\n",
            "Test set: Average loss: 0.0477, Accuracy: 9867/10000 (99%)\n",
            "\n",
            "learning rate:  <bound method ReduceLROnPlateau.state_dict of <torch.optim.lr_scheduler.ReduceLROnPlateau object at 0x7f0765784f98>>\n",
            "Started Epoch 13....\n",
            "\n"
          ],
          "name": "stdout"
        },
        {
          "output_type": "stream",
          "text": [
            "Loss=0.08471080660820007 Batch_id=468 Accuracy=97.26: 100%|██████████| 469/469 [00:16<00:00, 29.25it/s]\n",
            "  0%|          | 0/469 [00:00<?, ?it/s]"
          ],
          "name": "stderr"
        },
        {
          "output_type": "stream",
          "text": [
            "\n",
            "Test set: Average loss: 0.0447, Accuracy: 9871/10000 (99%)\n",
            "\n",
            "learning rate:  <bound method ReduceLROnPlateau.state_dict of <torch.optim.lr_scheduler.ReduceLROnPlateau object at 0x7f0765784f98>>\n",
            "Started Epoch 14....\n",
            "\n"
          ],
          "name": "stdout"
        },
        {
          "output_type": "stream",
          "text": [
            "Loss=0.060636814683675766 Batch_id=468 Accuracy=97.33: 100%|██████████| 469/469 [00:15<00:00, 29.57it/s]\n",
            "  0%|          | 0/469 [00:00<?, ?it/s]"
          ],
          "name": "stderr"
        },
        {
          "output_type": "stream",
          "text": [
            "\n",
            "Test set: Average loss: 0.0448, Accuracy: 9877/10000 (99%)\n",
            "\n",
            "learning rate:  <bound method ReduceLROnPlateau.state_dict of <torch.optim.lr_scheduler.ReduceLROnPlateau object at 0x7f0765784f98>>\n",
            "Started Epoch 15....\n",
            "\n"
          ],
          "name": "stdout"
        },
        {
          "output_type": "stream",
          "text": [
            "Loss=0.03312065452337265 Batch_id=468 Accuracy=97.29: 100%|██████████| 469/469 [00:16<00:00, 29.01it/s]\n",
            "  0%|          | 0/469 [00:00<?, ?it/s]"
          ],
          "name": "stderr"
        },
        {
          "output_type": "stream",
          "text": [
            "\n",
            "Test set: Average loss: 0.0446, Accuracy: 9876/10000 (99%)\n",
            "\n",
            "learning rate:  <bound method ReduceLROnPlateau.state_dict of <torch.optim.lr_scheduler.ReduceLROnPlateau object at 0x7f0765784f98>>\n",
            "Started Epoch 16....\n",
            "\n"
          ],
          "name": "stdout"
        },
        {
          "output_type": "stream",
          "text": [
            "Loss=0.07446622103452682 Batch_id=468 Accuracy=97.58: 100%|██████████| 469/469 [00:16<00:00, 29.31it/s]\n",
            "  0%|          | 0/469 [00:00<?, ?it/s]"
          ],
          "name": "stderr"
        },
        {
          "output_type": "stream",
          "text": [
            "\n",
            "Test set: Average loss: 0.0392, Accuracy: 9892/10000 (99%)\n",
            "\n",
            "learning rate:  <bound method ReduceLROnPlateau.state_dict of <torch.optim.lr_scheduler.ReduceLROnPlateau object at 0x7f0765784f98>>\n",
            "Started Epoch 17....\n",
            "\n"
          ],
          "name": "stdout"
        },
        {
          "output_type": "stream",
          "text": [
            "Loss=0.046469252556562424 Batch_id=468 Accuracy=97.69: 100%|██████████| 469/469 [00:16<00:00, 29.26it/s]\n",
            "  0%|          | 0/469 [00:00<?, ?it/s]"
          ],
          "name": "stderr"
        },
        {
          "output_type": "stream",
          "text": [
            "\n",
            "Test set: Average loss: 0.0371, Accuracy: 9902/10000 (99%)\n",
            "\n",
            "learning rate:  <bound method ReduceLROnPlateau.state_dict of <torch.optim.lr_scheduler.ReduceLROnPlateau object at 0x7f0765784f98>>\n",
            "Started Epoch 18....\n",
            "\n"
          ],
          "name": "stdout"
        },
        {
          "output_type": "stream",
          "text": [
            "Loss=0.031122395768761635 Batch_id=468 Accuracy=97.78: 100%|██████████| 469/469 [00:15<00:00, 29.34it/s]\n",
            "  0%|          | 0/469 [00:00<?, ?it/s]"
          ],
          "name": "stderr"
        },
        {
          "output_type": "stream",
          "text": [
            "\n",
            "Test set: Average loss: 0.0372, Accuracy: 9895/10000 (99%)\n",
            "\n",
            "learning rate:  <bound method ReduceLROnPlateau.state_dict of <torch.optim.lr_scheduler.ReduceLROnPlateau object at 0x7f0765784f98>>\n",
            "Started Epoch 19....\n",
            "\n"
          ],
          "name": "stdout"
        },
        {
          "output_type": "stream",
          "text": [
            "Loss=0.10653328895568848 Batch_id=468 Accuracy=97.70: 100%|██████████| 469/469 [00:16<00:00, 29.16it/s]\n",
            "  0%|          | 0/469 [00:00<?, ?it/s]"
          ],
          "name": "stderr"
        },
        {
          "output_type": "stream",
          "text": [
            "\n",
            "Test set: Average loss: 0.0334, Accuracy: 9910/10000 (99%)\n",
            "\n",
            "learning rate:  <bound method ReduceLROnPlateau.state_dict of <torch.optim.lr_scheduler.ReduceLROnPlateau object at 0x7f0765784f98>>\n",
            "Started Epoch 20....\n",
            "\n"
          ],
          "name": "stdout"
        },
        {
          "output_type": "stream",
          "text": [
            "Loss=0.07655271887779236 Batch_id=468 Accuracy=97.71: 100%|██████████| 469/469 [00:16<00:00, 29.04it/s]\n"
          ],
          "name": "stderr"
        },
        {
          "output_type": "stream",
          "text": [
            "\n",
            "Test set: Average loss: 0.0316, Accuracy: 9915/10000 (99%)\n",
            "\n",
            "learning rate:  <bound method ReduceLROnPlateau.state_dict of <torch.optim.lr_scheduler.ReduceLROnPlateau object at 0x7f0765784f98>>\n"
          ],
          "name": "stdout"
        }
      ]
    },
    {
      "cell_type": "code",
      "metadata": {
        "id": "K7e_f-PjkyLM",
        "colab_type": "code",
        "colab": {
          "base_uri": "https://localhost:8080/",
          "height": 34
        },
        "outputId": "c240472f-4090-467f-d5f9-20794f7eec07"
      },
      "source": [
        "print(\"learning rate: \", scheduler.get_last_lr())"
      ],
      "execution_count": 38,
      "outputs": [
        {
          "output_type": "stream",
          "text": [
            "learning rate:  [1e-05]\n"
          ],
          "name": "stdout"
        }
      ]
    },
    {
      "cell_type": "code",
      "metadata": {
        "id": "k5vTpLFXTaJV",
        "colab_type": "code",
        "colab": {}
      },
      "source": [
        "#dropout_value = 0.2\n",
        "\n",
        "OP_CH_CONV_BLK1  = 32\n",
        "OP_CH_CONV_BLK2  = 32\n",
        "OP_CH_CONV_BLK3  = 32\n",
        "OP_CH_CONV_BLK4  = 32\n",
        "OP_CH_CONV_BLK5  = 64\n",
        "OP_CH_CONV_BLK6  = 20\n",
        "OP_NODES = 10\n",
        "\n",
        "\n",
        "class Net(nn.Module):\n",
        "    def __init__(self, dropout_value):\n",
        "        super(Net, self).__init__()\n",
        "        self.__dropout_value = dropout_value\n",
        "        # Input Block\n",
        "        self.convblock1 = nn.Sequential(nn.Conv2d(in_channels=1, out_channels=OP_CH_CONV_BLK1, kernel_size=(3, 3), padding=0, bias=False),\n",
        "                                        nn.ReLU(),\n",
        "                                        nn.Dropout(self.__dropout_value),\n",
        "                                        nn.BatchNorm2d(OP_CH_CONV_BLK1)\n",
        "                                        ) # output_size = 26\n",
        "\n",
        "        # CONVOLUTION BLOCK 1\n",
        "        self.convblock2 = nn.Sequential(nn.Conv2d(in_channels=OP_CH_CONV_BLK1, out_channels=OP_CH_CONV_BLK2, kernel_size=(3, 3), padding=0, bias=False),\n",
        "                                        nn.ReLU(),\n",
        "                                        nn.Dropout(self.__dropout_value),\n",
        "                                        nn.BatchNorm2d(OP_CH_CONV_BLK2)\n",
        "                                        ) # output_size = 24\n",
        "\n",
        "        # TRANSITION BLOCK 1\n",
        "        self.pool1 = nn.MaxPool2d(2, 2) # output_size = 12\n",
        "\n",
        "        self.convblock3 = nn.Sequential(\n",
        "                                        nn.Conv2d(in_channels=OP_CH_CONV_BLK2, out_channels=OP_CH_CONV_BLK3, kernel_size=(3, 3), padding=0, bias=False),\n",
        "                                        nn.ReLU(),\n",
        "                                        nn.Dropout(self.__dropout_value),\n",
        "                                        nn.BatchNorm2d(OP_CH_CONV_BLK3)\n",
        "                                        ) # output_size = 10\n",
        "\n",
        "        self.convblock4 = nn.Sequential(\n",
        "                                        nn.Conv2d(in_channels=OP_CH_CONV_BLK3, out_channels=OP_CH_CONV_BLK4, kernel_size=(3, 3), padding=0, bias=False),\n",
        "                                        nn.ReLU(),\n",
        "                                        nn.Dropout(self.__dropout_value),\n",
        "                                        nn.BatchNorm2d(OP_CH_CONV_BLK4)\n",
        "                                        ) # output_size = 8\n",
        "\n",
        "        self.pool2 = nn.MaxPool2d(2, 2) # output_size = 4\n",
        "\n",
        "        self.convblock5 = nn.Sequential(\n",
        "                                        nn.Conv2d(in_channels=OP_CH_CONV_BLK4, out_channels=OP_CH_CONV_BLK5, kernel_size=(1, 1), padding=0, bias=False),\n",
        "                                        nn.ReLU(),\n",
        "                                        nn.Dropout(self.__dropout_value),\n",
        "                                        nn.BatchNorm2d(OP_CH_CONV_BLK5)\n",
        "                                        ) # output_size = 4\n",
        "\n",
        "        # OUTPUT BLOCK\n",
        "        self.gap = nn.Sequential(\n",
        "                                  nn.AvgPool2d(kernel_size=4),\n",
        "                                  nn.ReLU(),\n",
        "                                  nn.Dropout(self.__dropout_value),\n",
        "                                  nn.BatchNorm2d(OP_CH_CONV_BLK5)\n",
        "                                  ) # output_size = 1\n",
        "\n",
        "        self.convblock6 = nn.Sequential(\n",
        "                                          nn.Conv2d(in_channels=OP_CH_CONV_BLK5, out_channels=OP_CH_CONV_BLK6, kernel_size=(1, 1), padding=0, bias=False),\n",
        "                                          nn.ReLU(),\n",
        "                                          nn.Dropout(self.__dropout_value),\n",
        "                                          nn.BatchNorm2d(OP_CH_CONV_BLK6)\n",
        "                                          ) # output_size = 1\n",
        "\n",
        "        self.convblock7 = nn.Sequential(\n",
        "                                        nn.Conv2d(in_channels=OP_CH_CONV_BLK6, out_channels=OP_NODES, kernel_size=(1, 1), padding=0, bias=False),\n",
        "                                        # nn.BatchNorm2d(10), NEVER\n",
        "                                        # nn.ReLU() NEVER!\n",
        "                                        ) # output_size = 1\n",
        "\n",
        "\n",
        "    def forward(self, x):\n",
        "        x = self.convblock1(x)# 26x26\n",
        "        x = self.convblock2(x)# 24x24\n",
        "        x = self.pool1(x) # 12x12\n",
        "        x = self.convblock3(x)# 10x10\n",
        "        x = self.convblock4(x) # 8x8\n",
        "        x = self.pool1(x) # 4x4\n",
        "        x = self.convblock5(x) #1x1\n",
        "        x = self.gap(x)\n",
        "        x = self.convblock6(x) #1x1\n",
        "        x = self.convblock7(x) #1x1\n",
        "        x = x.view(-1, OP_NODES)\n",
        "        return F.log_softmax(x, dim=-1)"
      ],
      "execution_count": 0,
      "outputs": []
    },
    {
      "cell_type": "code",
      "metadata": {
        "id": "VAFgPo4XriTo",
        "colab_type": "code",
        "colab": {
          "base_uri": "https://localhost:8080/",
          "height": 765
        },
        "outputId": "1d571e36-fbba-4422-c817-9fcfb6db7c72"
      },
      "source": [
        "model = Net(0.25).to(device)\n",
        "summary(model, input_size=(1, 28, 28))\n",
        "\n",
        "loss_function = F.nll_loss\n",
        "#loss_function = nn.CrossEntropyLoss()\n",
        "#optimizer = torch.optim.Adam(model.parameters(), lr=0.001)\n",
        "optimizer = optim.SGD(model.parameters(), lr=0.01, momentum=0.9)\n",
        "#scheduler = ReduceLROnPlateau(optimizer, mode='min', factor=0.1, patience=3, verbose=True, threshold=0.001, threshold_mode='rel', cooldown=2, min_lr=0.0001, eps=1e-08)\n",
        "scheduler = StepLR(optimizer, step_size=9, gamma=0.1)"
      ],
      "execution_count": 79,
      "outputs": [
        {
          "output_type": "stream",
          "text": [
            "----------------------------------------------------------------\n",
            "        Layer (type)               Output Shape         Param #\n",
            "================================================================\n",
            "            Conv2d-1           [-1, 32, 26, 26]             288\n",
            "              ReLU-2           [-1, 32, 26, 26]               0\n",
            "           Dropout-3           [-1, 32, 26, 26]               0\n",
            "       BatchNorm2d-4           [-1, 32, 26, 26]              64\n",
            "            Conv2d-5           [-1, 32, 24, 24]           9,216\n",
            "              ReLU-6           [-1, 32, 24, 24]               0\n",
            "           Dropout-7           [-1, 32, 24, 24]               0\n",
            "       BatchNorm2d-8           [-1, 32, 24, 24]              64\n",
            "         MaxPool2d-9           [-1, 32, 12, 12]               0\n",
            "           Conv2d-10           [-1, 32, 10, 10]           9,216\n",
            "             ReLU-11           [-1, 32, 10, 10]               0\n",
            "          Dropout-12           [-1, 32, 10, 10]               0\n",
            "      BatchNorm2d-13           [-1, 32, 10, 10]              64\n",
            "           Conv2d-14             [-1, 32, 8, 8]           9,216\n",
            "             ReLU-15             [-1, 32, 8, 8]               0\n",
            "          Dropout-16             [-1, 32, 8, 8]               0\n",
            "      BatchNorm2d-17             [-1, 32, 8, 8]              64\n",
            "        MaxPool2d-18             [-1, 32, 4, 4]               0\n",
            "           Conv2d-19             [-1, 64, 4, 4]           2,048\n",
            "             ReLU-20             [-1, 64, 4, 4]               0\n",
            "          Dropout-21             [-1, 64, 4, 4]               0\n",
            "      BatchNorm2d-22             [-1, 64, 4, 4]             128\n",
            "        AvgPool2d-23             [-1, 64, 1, 1]               0\n",
            "             ReLU-24             [-1, 64, 1, 1]               0\n",
            "          Dropout-25             [-1, 64, 1, 1]               0\n",
            "      BatchNorm2d-26             [-1, 64, 1, 1]             128\n",
            "           Conv2d-27             [-1, 20, 1, 1]           1,280\n",
            "             ReLU-28             [-1, 20, 1, 1]               0\n",
            "          Dropout-29             [-1, 20, 1, 1]               0\n",
            "      BatchNorm2d-30             [-1, 20, 1, 1]              40\n",
            "           Conv2d-31             [-1, 10, 1, 1]             200\n",
            "================================================================\n",
            "Total params: 32,016\n",
            "Trainable params: 32,016\n",
            "Non-trainable params: 0\n",
            "----------------------------------------------------------------\n",
            "Input size (MB): 0.00\n",
            "Forward/backward pass size (MB): 1.46\n",
            "Params size (MB): 0.12\n",
            "Estimated Total Size (MB): 1.58\n",
            "----------------------------------------------------------------\n"
          ],
          "name": "stdout"
        }
      ]
    },
    {
      "cell_type": "code",
      "metadata": {
        "id": "zkwS2l-srpk_",
        "colab_type": "code",
        "colab": {
          "base_uri": "https://localhost:8080/",
          "height": 1000
        },
        "outputId": "ae063101-1ff7-4b64-d48a-17779a0bff93"
      },
      "source": [
        "EPOCHS = 20\n",
        "\n",
        "train_losses = []\n",
        "test_losses = []\n",
        "train_acc = []\n",
        "test_acc = []\n",
        "\n",
        "\n",
        "for epoch in range(EPOCHS):\n",
        "    train(model, train_loader, optimizer, loss_function, device, epoch, train_losses, train_acc)\n",
        "    val_loss = test(model, test_loader, loss_function, device, test_losses, test_acc)\n",
        "    if scheduler:\n",
        "      scheduler.step()\n",
        "      print(\"learning rate: \", scheduler.optimizer.param_groups[0]['lr'])"
      ],
      "execution_count": 80,
      "outputs": [
        {
          "output_type": "stream",
          "text": [
            "\r  0%|          | 0/469 [00:00<?, ?it/s]"
          ],
          "name": "stderr"
        },
        {
          "output_type": "stream",
          "text": [
            "Started Epoch 1....\n",
            "\n"
          ],
          "name": "stdout"
        },
        {
          "output_type": "stream",
          "text": [
            "Loss=0.35033515095710754 Batch_id=468 Accuracy=73.54: 100%|██████████| 469/469 [00:14<00:00, 33.16it/s]\n",
            "  0%|          | 0/469 [00:00<?, ?it/s]"
          ],
          "name": "stderr"
        },
        {
          "output_type": "stream",
          "text": [
            "\n",
            "Test set: Average loss: 0.2307, Accuracy: 9492/10000 (95%)\n",
            "\n",
            "learning rate:  0.01\n",
            "Started Epoch 2....\n",
            "\n"
          ],
          "name": "stdout"
        },
        {
          "output_type": "stream",
          "text": [
            "Loss=0.18101860582828522 Batch_id=468 Accuracy=91.27: 100%|██████████| 469/469 [00:14<00:00, 33.24it/s]\n",
            "  0%|          | 0/469 [00:00<?, ?it/s]"
          ],
          "name": "stderr"
        },
        {
          "output_type": "stream",
          "text": [
            "\n",
            "Test set: Average loss: 0.1216, Accuracy: 9675/10000 (97%)\n",
            "\n",
            "learning rate:  0.01\n",
            "Started Epoch 3....\n",
            "\n"
          ],
          "name": "stdout"
        },
        {
          "output_type": "stream",
          "text": [
            "Loss=0.09340337663888931 Batch_id=468 Accuracy=93.63: 100%|██████████| 469/469 [00:14<00:00, 33.36it/s]\n",
            "  0%|          | 0/469 [00:00<?, ?it/s]"
          ],
          "name": "stderr"
        },
        {
          "output_type": "stream",
          "text": [
            "\n",
            "Test set: Average loss: 0.0972, Accuracy: 9746/10000 (97%)\n",
            "\n",
            "learning rate:  0.01\n",
            "Started Epoch 4....\n",
            "\n"
          ],
          "name": "stdout"
        },
        {
          "output_type": "stream",
          "text": [
            "Loss=0.11806535720825195 Batch_id=468 Accuracy=94.46: 100%|██████████| 469/469 [00:14<00:00, 33.48it/s]\n",
            "  0%|          | 0/469 [00:00<?, ?it/s]"
          ],
          "name": "stderr"
        },
        {
          "output_type": "stream",
          "text": [
            "\n",
            "Test set: Average loss: 0.0797, Accuracy: 9753/10000 (98%)\n",
            "\n",
            "learning rate:  0.01\n",
            "Started Epoch 5....\n",
            "\n"
          ],
          "name": "stdout"
        },
        {
          "output_type": "stream",
          "text": [
            "Loss=0.12170352786779404 Batch_id=468 Accuracy=95.13: 100%|██████████| 469/469 [00:14<00:00, 32.51it/s]\n",
            "  0%|          | 0/469 [00:00<?, ?it/s]"
          ],
          "name": "stderr"
        },
        {
          "output_type": "stream",
          "text": [
            "\n",
            "Test set: Average loss: 0.0692, Accuracy: 9794/10000 (98%)\n",
            "\n",
            "learning rate:  0.01\n",
            "Started Epoch 6....\n",
            "\n"
          ],
          "name": "stdout"
        },
        {
          "output_type": "stream",
          "text": [
            "Loss=0.19079804420471191 Batch_id=468 Accuracy=95.45: 100%|██████████| 469/469 [00:13<00:00, 33.81it/s]\n",
            "  0%|          | 0/469 [00:00<?, ?it/s]"
          ],
          "name": "stderr"
        },
        {
          "output_type": "stream",
          "text": [
            "\n",
            "Test set: Average loss: 0.0598, Accuracy: 9833/10000 (98%)\n",
            "\n",
            "learning rate:  0.01\n",
            "Started Epoch 7....\n",
            "\n"
          ],
          "name": "stdout"
        },
        {
          "output_type": "stream",
          "text": [
            "Loss=0.16083838045597076 Batch_id=468 Accuracy=95.65: 100%|██████████| 469/469 [00:14<00:00, 33.31it/s]\n",
            "  0%|          | 0/469 [00:00<?, ?it/s]"
          ],
          "name": "stderr"
        },
        {
          "output_type": "stream",
          "text": [
            "\n",
            "Test set: Average loss: 0.0585, Accuracy: 9809/10000 (98%)\n",
            "\n",
            "learning rate:  0.01\n",
            "Started Epoch 8....\n",
            "\n"
          ],
          "name": "stdout"
        },
        {
          "output_type": "stream",
          "text": [
            "Loss=0.19923163950443268 Batch_id=468 Accuracy=95.94: 100%|██████████| 469/469 [00:13<00:00, 33.83it/s]\n",
            "  0%|          | 0/469 [00:00<?, ?it/s]"
          ],
          "name": "stderr"
        },
        {
          "output_type": "stream",
          "text": [
            "\n",
            "Test set: Average loss: 0.0569, Accuracy: 9822/10000 (98%)\n",
            "\n",
            "learning rate:  0.01\n",
            "Started Epoch 9....\n",
            "\n"
          ],
          "name": "stdout"
        },
        {
          "output_type": "stream",
          "text": [
            "Loss=0.10580015927553177 Batch_id=468 Accuracy=96.19: 100%|██████████| 469/469 [00:13<00:00, 33.55it/s]\n",
            "  0%|          | 0/469 [00:00<?, ?it/s]"
          ],
          "name": "stderr"
        },
        {
          "output_type": "stream",
          "text": [
            "\n",
            "Test set: Average loss: 0.0535, Accuracy: 9841/10000 (98%)\n",
            "\n",
            "learning rate:  0.001\n",
            "Started Epoch 10....\n",
            "\n"
          ],
          "name": "stdout"
        },
        {
          "output_type": "stream",
          "text": [
            "Loss=0.2419385313987732 Batch_id=468 Accuracy=96.66: 100%|██████████| 469/469 [00:14<00:00, 33.45it/s]\n",
            "  0%|          | 0/469 [00:00<?, ?it/s]"
          ],
          "name": "stderr"
        },
        {
          "output_type": "stream",
          "text": [
            "\n",
            "Test set: Average loss: 0.0477, Accuracy: 9863/10000 (99%)\n",
            "\n",
            "learning rate:  0.001\n",
            "Started Epoch 11....\n",
            "\n"
          ],
          "name": "stdout"
        },
        {
          "output_type": "stream",
          "text": [
            "Loss=0.07635746151208878 Batch_id=468 Accuracy=96.79: 100%|██████████| 469/469 [00:13<00:00, 34.04it/s]\n",
            "  0%|          | 0/469 [00:00<?, ?it/s]"
          ],
          "name": "stderr"
        },
        {
          "output_type": "stream",
          "text": [
            "\n",
            "Test set: Average loss: 0.0484, Accuracy: 9860/10000 (99%)\n",
            "\n",
            "learning rate:  0.001\n",
            "Started Epoch 12....\n",
            "\n"
          ],
          "name": "stdout"
        },
        {
          "output_type": "stream",
          "text": [
            "Loss=0.08252996951341629 Batch_id=468 Accuracy=96.65: 100%|██████████| 469/469 [00:13<00:00, 33.75it/s]\n",
            "  0%|          | 0/469 [00:00<?, ?it/s]"
          ],
          "name": "stderr"
        },
        {
          "output_type": "stream",
          "text": [
            "\n",
            "Test set: Average loss: 0.0492, Accuracy: 9851/10000 (99%)\n",
            "\n",
            "learning rate:  0.001\n",
            "Started Epoch 13....\n",
            "\n"
          ],
          "name": "stdout"
        },
        {
          "output_type": "stream",
          "text": [
            "Loss=0.07842335850000381 Batch_id=468 Accuracy=96.70: 100%|██████████| 469/469 [00:13<00:00, 33.64it/s]\n",
            "  0%|          | 0/469 [00:00<?, ?it/s]"
          ],
          "name": "stderr"
        },
        {
          "output_type": "stream",
          "text": [
            "\n",
            "Test set: Average loss: 0.0449, Accuracy: 9862/10000 (99%)\n",
            "\n",
            "learning rate:  0.001\n",
            "Started Epoch 14....\n",
            "\n"
          ],
          "name": "stdout"
        },
        {
          "output_type": "stream",
          "text": [
            "Loss=0.08650263398885727 Batch_id=468 Accuracy=97.02: 100%|██████████| 469/469 [00:13<00:00, 33.80it/s]\n",
            "  0%|          | 0/469 [00:00<?, ?it/s]"
          ],
          "name": "stderr"
        },
        {
          "output_type": "stream",
          "text": [
            "\n",
            "Test set: Average loss: 0.0468, Accuracy: 9866/10000 (99%)\n",
            "\n",
            "learning rate:  0.001\n",
            "Started Epoch 15....\n",
            "\n"
          ],
          "name": "stdout"
        },
        {
          "output_type": "stream",
          "text": [
            "Loss=0.17363731563091278 Batch_id=468 Accuracy=96.78: 100%|██████████| 469/469 [00:14<00:00, 33.18it/s]\n",
            "  0%|          | 0/469 [00:00<?, ?it/s]"
          ],
          "name": "stderr"
        },
        {
          "output_type": "stream",
          "text": [
            "\n",
            "Test set: Average loss: 0.0449, Accuracy: 9865/10000 (99%)\n",
            "\n",
            "learning rate:  0.001\n",
            "Started Epoch 16....\n",
            "\n"
          ],
          "name": "stdout"
        },
        {
          "output_type": "stream",
          "text": [
            "Loss=0.1559557169675827 Batch_id=468 Accuracy=96.93: 100%|██████████| 469/469 [00:13<00:00, 33.53it/s]\n",
            "  0%|          | 0/469 [00:00<?, ?it/s]"
          ],
          "name": "stderr"
        },
        {
          "output_type": "stream",
          "text": [
            "\n",
            "Test set: Average loss: 0.0432, Accuracy: 9869/10000 (99%)\n",
            "\n",
            "learning rate:  0.001\n",
            "Started Epoch 17....\n",
            "\n"
          ],
          "name": "stdout"
        },
        {
          "output_type": "stream",
          "text": [
            "Loss=0.11516895890235901 Batch_id=468 Accuracy=97.04: 100%|██████████| 469/469 [00:13<00:00, 33.71it/s]\n",
            "  0%|          | 0/469 [00:00<?, ?it/s]"
          ],
          "name": "stderr"
        },
        {
          "output_type": "stream",
          "text": [
            "\n",
            "Test set: Average loss: 0.0446, Accuracy: 9869/10000 (99%)\n",
            "\n",
            "learning rate:  0.001\n",
            "Started Epoch 18....\n",
            "\n"
          ],
          "name": "stdout"
        },
        {
          "output_type": "stream",
          "text": [
            "Loss=0.11221761256456375 Batch_id=468 Accuracy=96.98: 100%|██████████| 469/469 [00:13<00:00, 33.93it/s]\n",
            "  0%|          | 0/469 [00:00<?, ?it/s]"
          ],
          "name": "stderr"
        },
        {
          "output_type": "stream",
          "text": [
            "\n",
            "Test set: Average loss: 0.0461, Accuracy: 9857/10000 (99%)\n",
            "\n",
            "learning rate:  0.0001\n",
            "Started Epoch 19....\n",
            "\n"
          ],
          "name": "stdout"
        },
        {
          "output_type": "stream",
          "text": [
            "Loss=0.22004854679107666 Batch_id=468 Accuracy=97.04: 100%|██████████| 469/469 [00:13<00:00, 33.82it/s]\n",
            "  0%|          | 0/469 [00:00<?, ?it/s]"
          ],
          "name": "stderr"
        },
        {
          "output_type": "stream",
          "text": [
            "\n",
            "Test set: Average loss: 0.0410, Accuracy: 9873/10000 (99%)\n",
            "\n",
            "learning rate:  0.0001\n",
            "Started Epoch 20....\n",
            "\n"
          ],
          "name": "stdout"
        },
        {
          "output_type": "stream",
          "text": [
            "Loss=0.13677234947681427 Batch_id=468 Accuracy=97.00: 100%|██████████| 469/469 [00:13<00:00, 34.03it/s]\n"
          ],
          "name": "stderr"
        },
        {
          "output_type": "stream",
          "text": [
            "\n",
            "Test set: Average loss: 0.0437, Accuracy: 9868/10000 (99%)\n",
            "\n",
            "learning rate:  0.0001\n"
          ],
          "name": "stdout"
        }
      ]
    },
    {
      "cell_type": "code",
      "metadata": {
        "id": "QoAnR5Weu4rf",
        "colab_type": "code",
        "colab": {}
      },
      "source": [
        ""
      ],
      "execution_count": 0,
      "outputs": []
    }
  ]
}